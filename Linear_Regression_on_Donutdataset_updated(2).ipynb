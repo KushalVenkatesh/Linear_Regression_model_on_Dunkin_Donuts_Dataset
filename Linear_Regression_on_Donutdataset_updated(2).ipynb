{
  "nbformat": 4,
  "nbformat_minor": 0,
  "metadata": {
    "colab": {
      "name": "Linear Regression on Donutdataset  (2).ipynb",
      "version": "0.3.2",
      "provenance": [],
      "include_colab_link": true
    },
    "kernelspec": {
      "display_name": "Python 2",
      "language": "python",
      "name": "python2"
    }
  },
  "cells": [
    {
      "cell_type": "markdown",
      "metadata": {
        "id": "view-in-github",
        "colab_type": "text"
      },
      "source": [
        "[View in Colaboratory](https://colab.research.google.com/github/KushalVenkatesh/Linear_Regression_model_on_Dunkin_Donuts_Dataset/blob/master/Linear_Regression_on_Donutdataset_updated(2).ipynb)"
      ]
    },
    {
      "metadata": {
        "id": "s161SdZqkhgw",
        "colab_type": "code",
        "colab": {}
      },
      "cell_type": "code",
      "source": [
        "import numpy as np\n",
        "import matplotlib.pyplot as plt\n",
        "import matplotlib.dates as dates\n",
        "import datetime as dt"
      ],
      "execution_count": 0,
      "outputs": []
    },
    {
      "metadata": {
        "id": "UQa1JYTDkhgz",
        "colab_type": "code",
        "colab": {},
        "outputId": "bc77c194-12aa-4386-9669-9923075887b6"
      },
      "cell_type": "code",
      "source": [
        "pwd"
      ],
      "execution_count": 0,
      "outputs": [
        {
          "output_type": "execute_result",
          "data": {
            "text/plain": [
              "u'C:\\\\Users\\\\kusha'"
            ]
          },
          "metadata": {
            "tags": []
          },
          "execution_count": 3
        }
      ]
    },
    {
      "metadata": {
        "id": "KfCSW4Rkkhg3",
        "colab_type": "code",
        "colab": {}
      },
      "cell_type": "code",
      "source": [
        "#importing libraries \n",
        "import numpy as np\n",
        "import pandas as pd\n",
        "import matplotlib.pyplot as plt\n",
        "#matplotlib.inline\n",
        "plt.rcParams['figure.figsize'] = (10.0, 8.0)\n",
        "import seaborn as sns\n",
        "import mpl_toolkits\n",
        "from scipy import stats\n",
        "from scipy.stats import norm"
      ],
      "execution_count": 0,
      "outputs": []
    },
    {
      "metadata": {
        "id": "T-R1yy2Wkhg5",
        "colab_type": "code",
        "colab": {}
      },
      "cell_type": "code",
      "source": [
        "train = pd.read_csv(\"TrainingSet.csv\")\n",
        "test = pd.read_csv(\"Testset.csv\")"
      ],
      "execution_count": 0,
      "outputs": []
    },
    {
      "metadata": {
        "id": "e1M8YNa1khg8",
        "colab_type": "code",
        "colab": {},
        "outputId": "aad633e3-0879-4e38-e809-1cf226c5b349"
      },
      "cell_type": "code",
      "source": [
        "train.head()"
      ],
      "execution_count": 0,
      "outputs": [
        {
          "output_type": "execute_result",
          "data": {
            "text/html": [
              "<div>\n",
              "<style scoped>\n",
              "    .dataframe tbody tr th:only-of-type {\n",
              "        vertical-align: middle;\n",
              "    }\n",
              "\n",
              "    .dataframe tbody tr th {\n",
              "        vertical-align: top;\n",
              "    }\n",
              "\n",
              "    .dataframe thead th {\n",
              "        text-align: right;\n",
              "    }\n",
              "</style>\n",
              "<table border=\"1\" class=\"dataframe\">\n",
              "  <thead>\n",
              "    <tr style=\"text-align: right;\">\n",
              "      <th></th>\n",
              "      <th>Donut ID</th>\n",
              "      <th>Donut Estimator 1</th>\n",
              "      <th>Donut Area of cross section</th>\n",
              "      <th>Donut Area of circumference circle</th>\n",
              "      <th>Donut area of central hole / Donut Area of circumscribed circle</th>\n",
              "      <th>Donut  Estimator 2</th>\n",
              "      <th>Donut  Estimator 3</th>\n",
              "      <th>Donut  Estimator 4</th>\n",
              "      <th>Donut  Estimator 5</th>\n",
              "      <th>Donut volume Estimator 6</th>\n",
              "      <th>Location</th>\n",
              "      <th>Donut Density</th>\n",
              "      <th>Donut volume</th>\n",
              "    </tr>\n",
              "  </thead>\n",
              "  <tbody>\n",
              "    <tr>\n",
              "      <th>0</th>\n",
              "      <td>1</td>\n",
              "      <td>317.61</td>\n",
              "      <td>496.27</td>\n",
              "      <td>682.80</td>\n",
              "      <td>0.27</td>\n",
              "      <td>818.25</td>\n",
              "      <td>788.89</td>\n",
              "      <td>567.20</td>\n",
              "      <td>557.68</td>\n",
              "      <td>579.17</td>\n",
              "      <td>Mumbai</td>\n",
              "      <td>14.3</td>\n",
              "      <td>52.1</td>\n",
              "    </tr>\n",
              "    <tr>\n",
              "      <th>1</th>\n",
              "      <td>2</td>\n",
              "      <td>315.19</td>\n",
              "      <td>538.85</td>\n",
              "      <td>645.77</td>\n",
              "      <td>0.17</td>\n",
              "      <td>800.65</td>\n",
              "      <td>798.97</td>\n",
              "      <td>560.37</td>\n",
              "      <td>561.20</td>\n",
              "      <td>577.59</td>\n",
              "      <td>Mumbai</td>\n",
              "      <td>15.8</td>\n",
              "      <td>54.2</td>\n",
              "    </tr>\n",
              "    <tr>\n",
              "      <th>2</th>\n",
              "      <td>3</td>\n",
              "      <td>317.44</td>\n",
              "      <td>514.24</td>\n",
              "      <td>661.30</td>\n",
              "      <td>0.22</td>\n",
              "      <td>795.79</td>\n",
              "      <td>801.74</td>\n",
              "      <td>579.30</td>\n",
              "      <td>584.34</td>\n",
              "      <td>575.06</td>\n",
              "      <td>Mumbai</td>\n",
              "      <td>16.3</td>\n",
              "      <td>54.8</td>\n",
              "    </tr>\n",
              "    <tr>\n",
              "      <th>3</th>\n",
              "      <td>4</td>\n",
              "      <td>336.62</td>\n",
              "      <td>562.98</td>\n",
              "      <td>709.35</td>\n",
              "      <td>0.20</td>\n",
              "      <td>888.29</td>\n",
              "      <td>862.33</td>\n",
              "      <td>596.66</td>\n",
              "      <td>588.34</td>\n",
              "      <td>629.96</td>\n",
              "      <td>Mumbai</td>\n",
              "      <td>16.6</td>\n",
              "      <td>56.6</td>\n",
              "    </tr>\n",
              "    <tr>\n",
              "      <th>4</th>\n",
              "      <td>5</td>\n",
              "      <td>331.76</td>\n",
              "      <td>558.90</td>\n",
              "      <td>635.54</td>\n",
              "      <td>0.12</td>\n",
              "      <td>801.16</td>\n",
              "      <td>811.17</td>\n",
              "      <td>593.59</td>\n",
              "      <td>599.81</td>\n",
              "      <td>586.01</td>\n",
              "      <td>Mumbai</td>\n",
              "      <td>18.3</td>\n",
              "      <td>56.9</td>\n",
              "    </tr>\n",
              "  </tbody>\n",
              "</table>\n",
              "</div>"
            ],
            "text/plain": [
              "   Donut ID  Donut Estimator 1  Donut Area of cross section  \\\n",
              "0         1             317.61                       496.27   \n",
              "1         2             315.19                       538.85   \n",
              "2         3             317.44                       514.24   \n",
              "3         4             336.62                       562.98   \n",
              "4         5             331.76                       558.90   \n",
              "\n",
              "   Donut Area of circumference circle  \\\n",
              "0                              682.80   \n",
              "1                              645.77   \n",
              "2                              661.30   \n",
              "3                              709.35   \n",
              "4                              635.54   \n",
              "\n",
              "   Donut area of central hole / Donut Area of circumscribed circle  \\\n",
              "0                                               0.27                 \n",
              "1                                               0.17                 \n",
              "2                                               0.22                 \n",
              "3                                               0.20                 \n",
              "4                                               0.12                 \n",
              "\n",
              "   Donut  Estimator 2  Donut  Estimator 3  Donut  Estimator 4  \\\n",
              "0              818.25              788.89              567.20   \n",
              "1              800.65              798.97              560.37   \n",
              "2              795.79              801.74              579.30   \n",
              "3              888.29              862.33              596.66   \n",
              "4              801.16              811.17              593.59   \n",
              "\n",
              "   Donut  Estimator 5  Donut volume Estimator 6 Location  Donut Density  \\\n",
              "0              557.68                    579.17   Mumbai           14.3   \n",
              "1              561.20                    577.59   Mumbai           15.8   \n",
              "2              584.34                    575.06   Mumbai           16.3   \n",
              "3              588.34                    629.96   Mumbai           16.6   \n",
              "4              599.81                    586.01   Mumbai           18.3   \n",
              "\n",
              "   Donut volume  \n",
              "0          52.1  \n",
              "1          54.2  \n",
              "2          54.8  \n",
              "3          56.6  \n",
              "4          56.9  "
            ]
          },
          "metadata": {
            "tags": []
          },
          "execution_count": 8
        }
      ]
    },
    {
      "metadata": {
        "id": "d4QP-_3Bkhg-",
        "colab_type": "code",
        "colab": {},
        "outputId": "85c5fd3e-b7c2-4c0f-a123-155dd4d3bcfa"
      },
      "cell_type": "code",
      "source": [
        "train.describe()"
      ],
      "execution_count": 0,
      "outputs": [
        {
          "output_type": "execute_result",
          "data": {
            "text/html": [
              "<div>\n",
              "<style scoped>\n",
              "    .dataframe tbody tr th:only-of-type {\n",
              "        vertical-align: middle;\n",
              "    }\n",
              "\n",
              "    .dataframe tbody tr th {\n",
              "        vertical-align: top;\n",
              "    }\n",
              "\n",
              "    .dataframe thead th {\n",
              "        text-align: right;\n",
              "    }\n",
              "</style>\n",
              "<table border=\"1\" class=\"dataframe\">\n",
              "  <thead>\n",
              "    <tr style=\"text-align: right;\">\n",
              "      <th></th>\n",
              "      <th>Donut ID</th>\n",
              "      <th>Donut Estimator 1</th>\n",
              "      <th>Donut Area of cross section</th>\n",
              "      <th>Donut Area of circumference circle</th>\n",
              "      <th>Donut area of central hole / Donut Area of circumscribed circle</th>\n",
              "      <th>Donut  Estimator 2</th>\n",
              "      <th>Donut  Estimator 3</th>\n",
              "      <th>Donut  Estimator 4</th>\n",
              "      <th>Donut  Estimator 5</th>\n",
              "      <th>Donut volume Estimator 6</th>\n",
              "      <th>Donut Density</th>\n",
              "      <th>Donut volume</th>\n",
              "    </tr>\n",
              "  </thead>\n",
              "  <tbody>\n",
              "    <tr>\n",
              "      <th>count</th>\n",
              "      <td>749.000000</td>\n",
              "      <td>749.000000</td>\n",
              "      <td>749.000000</td>\n",
              "      <td>749.000000</td>\n",
              "      <td>749.000000</td>\n",
              "      <td>749.000000</td>\n",
              "      <td>749.000000</td>\n",
              "      <td>749.000000</td>\n",
              "      <td>749.000000</td>\n",
              "      <td>749.000000</td>\n",
              "      <td>749.000000</td>\n",
              "      <td>749.000000</td>\n",
              "    </tr>\n",
              "    <tr>\n",
              "      <th>mean</th>\n",
              "      <td>375.000000</td>\n",
              "      <td>375.241402</td>\n",
              "      <td>726.166943</td>\n",
              "      <td>801.993311</td>\n",
              "      <td>0.222283</td>\n",
              "      <td>1032.105567</td>\n",
              "      <td>1015.358585</td>\n",
              "      <td>692.367623</td>\n",
              "      <td>690.589052</td>\n",
              "      <td>720.300748</td>\n",
              "      <td>26.866489</td>\n",
              "      <td>81.884246</td>\n",
              "    </tr>\n",
              "    <tr>\n",
              "      <th>std</th>\n",
              "      <td>216.361965</td>\n",
              "      <td>37.707571</td>\n",
              "      <td>99.436825</td>\n",
              "      <td>77.912367</td>\n",
              "      <td>0.112310</td>\n",
              "      <td>127.379942</td>\n",
              "      <td>117.488548</td>\n",
              "      <td>76.408888</td>\n",
              "      <td>79.035294</td>\n",
              "      <td>79.703218</td>\n",
              "      <td>4.589291</td>\n",
              "      <td>10.437646</td>\n",
              "    </tr>\n",
              "    <tr>\n",
              "      <th>min</th>\n",
              "      <td>1.000000</td>\n",
              "      <td>281.140000</td>\n",
              "      <td>487.020000</td>\n",
              "      <td>585.930000</td>\n",
              "      <td>0.050000</td>\n",
              "      <td>743.620000</td>\n",
              "      <td>644.640000</td>\n",
              "      <td>506.170000</td>\n",
              "      <td>499.170000</td>\n",
              "      <td>409.920000</td>\n",
              "      <td>14.100000</td>\n",
              "      <td>1.500000</td>\n",
              "    </tr>\n",
              "    <tr>\n",
              "      <th>25%</th>\n",
              "      <td>188.000000</td>\n",
              "      <td>349.040000</td>\n",
              "      <td>653.780000</td>\n",
              "      <td>754.250000</td>\n",
              "      <td>0.140000</td>\n",
              "      <td>944.790000</td>\n",
              "      <td>943.250000</td>\n",
              "      <td>641.040000</td>\n",
              "      <td>634.930000</td>\n",
              "      <td>669.960000</td>\n",
              "      <td>24.700000</td>\n",
              "      <td>76.900000</td>\n",
              "    </tr>\n",
              "    <tr>\n",
              "      <th>50%</th>\n",
              "      <td>375.000000</td>\n",
              "      <td>372.200000</td>\n",
              "      <td>718.260000</td>\n",
              "      <td>799.690000</td>\n",
              "      <td>0.200000</td>\n",
              "      <td>1027.100000</td>\n",
              "      <td>1008.780000</td>\n",
              "      <td>684.100000</td>\n",
              "      <td>678.050000</td>\n",
              "      <td>718.030000</td>\n",
              "      <td>27.500000</td>\n",
              "      <td>83.400000</td>\n",
              "    </tr>\n",
              "    <tr>\n",
              "      <th>75%</th>\n",
              "      <td>562.000000</td>\n",
              "      <td>398.970000</td>\n",
              "      <td>789.500000</td>\n",
              "      <td>842.020000</td>\n",
              "      <td>0.280000</td>\n",
              "      <td>1107.560000</td>\n",
              "      <td>1083.990000</td>\n",
              "      <td>741.530000</td>\n",
              "      <td>743.730000</td>\n",
              "      <td>766.860000</td>\n",
              "      <td>29.400000</td>\n",
              "      <td>88.100000</td>\n",
              "    </tr>\n",
              "    <tr>\n",
              "      <th>max</th>\n",
              "      <td>749.000000</td>\n",
              "      <td>530.020000</td>\n",
              "      <td>1056.790000</td>\n",
              "      <td>1109.180000</td>\n",
              "      <td>0.640000</td>\n",
              "      <td>1829.510000</td>\n",
              "      <td>1428.550000</td>\n",
              "      <td>1013.650000</td>\n",
              "      <td>1025.600000</td>\n",
              "      <td>990.700000</td>\n",
              "      <td>90.000000</td>\n",
              "      <td>122.600000</td>\n",
              "    </tr>\n",
              "  </tbody>\n",
              "</table>\n",
              "</div>"
            ],
            "text/plain": [
              "         Donut ID  Donut Estimator 1  Donut Area of cross section  \\\n",
              "count  749.000000         749.000000                   749.000000   \n",
              "mean   375.000000         375.241402                   726.166943   \n",
              "std    216.361965          37.707571                    99.436825   \n",
              "min      1.000000         281.140000                   487.020000   \n",
              "25%    188.000000         349.040000                   653.780000   \n",
              "50%    375.000000         372.200000                   718.260000   \n",
              "75%    562.000000         398.970000                   789.500000   \n",
              "max    749.000000         530.020000                  1056.790000   \n",
              "\n",
              "       Donut Area of circumference circle  \\\n",
              "count                          749.000000   \n",
              "mean                           801.993311   \n",
              "std                             77.912367   \n",
              "min                            585.930000   \n",
              "25%                            754.250000   \n",
              "50%                            799.690000   \n",
              "75%                            842.020000   \n",
              "max                           1109.180000   \n",
              "\n",
              "       Donut area of central hole / Donut Area of circumscribed circle  \\\n",
              "count                                         749.000000                 \n",
              "mean                                            0.222283                 \n",
              "std                                             0.112310                 \n",
              "min                                             0.050000                 \n",
              "25%                                             0.140000                 \n",
              "50%                                             0.200000                 \n",
              "75%                                             0.280000                 \n",
              "max                                             0.640000                 \n",
              "\n",
              "       Donut  Estimator 2  Donut  Estimator 3  Donut  Estimator 4  \\\n",
              "count          749.000000          749.000000          749.000000   \n",
              "mean          1032.105567         1015.358585          692.367623   \n",
              "std            127.379942          117.488548           76.408888   \n",
              "min            743.620000          644.640000          506.170000   \n",
              "25%            944.790000          943.250000          641.040000   \n",
              "50%           1027.100000         1008.780000          684.100000   \n",
              "75%           1107.560000         1083.990000          741.530000   \n",
              "max           1829.510000         1428.550000         1013.650000   \n",
              "\n",
              "       Donut  Estimator 5  Donut volume Estimator 6  Donut Density  \\\n",
              "count          749.000000                749.000000     749.000000   \n",
              "mean           690.589052                720.300748      26.866489   \n",
              "std             79.035294                 79.703218       4.589291   \n",
              "min            499.170000                409.920000      14.100000   \n",
              "25%            634.930000                669.960000      24.700000   \n",
              "50%            678.050000                718.030000      27.500000   \n",
              "75%            743.730000                766.860000      29.400000   \n",
              "max           1025.600000                990.700000      90.000000   \n",
              "\n",
              "       Donut volume  \n",
              "count    749.000000  \n",
              "mean      81.884246  \n",
              "std       10.437646  \n",
              "min        1.500000  \n",
              "25%       76.900000  \n",
              "50%       83.400000  \n",
              "75%       88.100000  \n",
              "max      122.600000  "
            ]
          },
          "metadata": {
            "tags": []
          },
          "execution_count": 9
        }
      ]
    },
    {
      "metadata": {
        "id": "OWzt8Q96khhC",
        "colab_type": "code",
        "colab": {},
        "outputId": "31ad012d-8cd1-435d-b73e-3dec78f453b0"
      },
      "cell_type": "code",
      "source": [
        "test.head()"
      ],
      "execution_count": 0,
      "outputs": [
        {
          "output_type": "execute_result",
          "data": {
            "text/html": [
              "<div>\n",
              "<style scoped>\n",
              "    .dataframe tbody tr th:only-of-type {\n",
              "        vertical-align: middle;\n",
              "    }\n",
              "\n",
              "    .dataframe tbody tr th {\n",
              "        vertical-align: top;\n",
              "    }\n",
              "\n",
              "    .dataframe thead th {\n",
              "        text-align: right;\n",
              "    }\n",
              "</style>\n",
              "<table border=\"1\" class=\"dataframe\">\n",
              "  <thead>\n",
              "    <tr style=\"text-align: right;\">\n",
              "      <th></th>\n",
              "      <th>Donut ID</th>\n",
              "      <th>Donut Estimator 1</th>\n",
              "      <th>Donut Area of cross section</th>\n",
              "      <th>Donut Area of circumference circle</th>\n",
              "      <th>Donut area of central hole / Donut Area of circumscribed circle</th>\n",
              "      <th>Donut Estimator 2</th>\n",
              "      <th>Donut Estimator 3</th>\n",
              "      <th>Donut Estimator 4</th>\n",
              "      <th>Donut Estimator 5</th>\n",
              "      <th>Donut volume Estimator 6</th>\n",
              "      <th>Location</th>\n",
              "      <th>Donut Density</th>\n",
              "      <th>Donut volume</th>\n",
              "    </tr>\n",
              "  </thead>\n",
              "  <tbody>\n",
              "    <tr>\n",
              "      <th>0</th>\n",
              "      <td>1</td>\n",
              "      <td>354.84</td>\n",
              "      <td>512.67</td>\n",
              "      <td>703.84</td>\n",
              "      <td>0.28</td>\n",
              "      <td>801.96</td>\n",
              "      <td>820.74</td>\n",
              "      <td>725.30</td>\n",
              "      <td>759.01</td>\n",
              "      <td>535.97</td>\n",
              "      <td>Mumbai</td>\n",
              "      <td>16.08</td>\n",
              "      <td>51.4</td>\n",
              "    </tr>\n",
              "    <tr>\n",
              "      <th>1</th>\n",
              "      <td>2</td>\n",
              "      <td>284.50</td>\n",
              "      <td>419.91</td>\n",
              "      <td>632.08</td>\n",
              "      <td>0.33</td>\n",
              "      <td>698.40</td>\n",
              "      <td>694.26</td>\n",
              "      <td>523.64</td>\n",
              "      <td>522.64</td>\n",
              "      <td>509.75</td>\n",
              "      <td>Mumbai</td>\n",
              "      <td>16.52</td>\n",
              "      <td>55.2</td>\n",
              "    </tr>\n",
              "    <tr>\n",
              "      <th>2</th>\n",
              "      <td>3</td>\n",
              "      <td>298.34</td>\n",
              "      <td>450.13</td>\n",
              "      <td>701.23</td>\n",
              "      <td>0.36</td>\n",
              "      <td>798.88</td>\n",
              "      <td>749.28</td>\n",
              "      <td>517.35</td>\n",
              "      <td>502.82</td>\n",
              "      <td>626.46</td>\n",
              "      <td>Mumbai</td>\n",
              "      <td>17.90</td>\n",
              "      <td>57.0</td>\n",
              "    </tr>\n",
              "    <tr>\n",
              "      <th>3</th>\n",
              "      <td>4</td>\n",
              "      <td>302.40</td>\n",
              "      <td>472.97</td>\n",
              "      <td>694.86</td>\n",
              "      <td>0.32</td>\n",
              "      <td>798.38</td>\n",
              "      <td>769.71</td>\n",
              "      <td>530.10</td>\n",
              "      <td>522.51</td>\n",
              "      <td>602.89</td>\n",
              "      <td>Mumbai</td>\n",
              "      <td>17.90</td>\n",
              "      <td>57.0</td>\n",
              "    </tr>\n",
              "    <tr>\n",
              "      <th>4</th>\n",
              "      <td>5</td>\n",
              "      <td>422.84</td>\n",
              "      <td>726.44</td>\n",
              "      <td>806.40</td>\n",
              "      <td>0.10</td>\n",
              "      <td>1036.23</td>\n",
              "      <td>1048.50</td>\n",
              "      <td>781.72</td>\n",
              "      <td>791.55</td>\n",
              "      <td>710.68</td>\n",
              "      <td>Mumbai</td>\n",
              "      <td>18.80</td>\n",
              "      <td>57.8</td>\n",
              "    </tr>\n",
              "  </tbody>\n",
              "</table>\n",
              "</div>"
            ],
            "text/plain": [
              "   Donut ID  Donut Estimator 1  Donut Area of cross section  \\\n",
              "0         1             354.84                       512.67   \n",
              "1         2             284.50                       419.91   \n",
              "2         3             298.34                       450.13   \n",
              "3         4             302.40                       472.97   \n",
              "4         5             422.84                       726.44   \n",
              "\n",
              "   Donut Area of circumference circle  \\\n",
              "0                              703.84   \n",
              "1                              632.08   \n",
              "2                              701.23   \n",
              "3                              694.86   \n",
              "4                              806.40   \n",
              "\n",
              "   Donut area of central hole / Donut Area of circumscribed circle  \\\n",
              "0                                               0.28                 \n",
              "1                                               0.33                 \n",
              "2                                               0.36                 \n",
              "3                                               0.32                 \n",
              "4                                               0.10                 \n",
              "\n",
              "   Donut Estimator 2  Donut Estimator 3  Donut Estimator 4  Donut Estimator 5  \\\n",
              "0             801.96             820.74             725.30             759.01   \n",
              "1             698.40             694.26             523.64             522.64   \n",
              "2             798.88             749.28             517.35             502.82   \n",
              "3             798.38             769.71             530.10             522.51   \n",
              "4            1036.23            1048.50             781.72             791.55   \n",
              "\n",
              "   Donut volume Estimator 6 Location  Donut Density  Donut volume  \n",
              "0                    535.97   Mumbai          16.08          51.4  \n",
              "1                    509.75   Mumbai          16.52          55.2  \n",
              "2                    626.46   Mumbai          17.90          57.0  \n",
              "3                    602.89   Mumbai          17.90          57.0  \n",
              "4                    710.68   Mumbai          18.80          57.8  "
            ]
          },
          "metadata": {
            "tags": []
          },
          "execution_count": 10
        }
      ]
    },
    {
      "metadata": {
        "id": "UHUVYGdekhhF",
        "colab_type": "code",
        "colab": {},
        "outputId": "244aac85-12bb-4f27-eef4-3060f4a86771"
      },
      "cell_type": "code",
      "source": [
        "test.describe()"
      ],
      "execution_count": 0,
      "outputs": [
        {
          "output_type": "execute_result",
          "data": {
            "text/html": [
              "<div>\n",
              "<style scoped>\n",
              "    .dataframe tbody tr th:only-of-type {\n",
              "        vertical-align: middle;\n",
              "    }\n",
              "\n",
              "    .dataframe tbody tr th {\n",
              "        vertical-align: top;\n",
              "    }\n",
              "\n",
              "    .dataframe thead th {\n",
              "        text-align: right;\n",
              "    }\n",
              "</style>\n",
              "<table border=\"1\" class=\"dataframe\">\n",
              "  <thead>\n",
              "    <tr style=\"text-align: right;\">\n",
              "      <th></th>\n",
              "      <th>Donut ID</th>\n",
              "      <th>Donut Estimator 1</th>\n",
              "      <th>Donut Area of cross section</th>\n",
              "      <th>Donut Area of circumference circle</th>\n",
              "      <th>Donut area of central hole / Donut Area of circumscribed circle</th>\n",
              "      <th>Donut Estimator 2</th>\n",
              "      <th>Donut Estimator 3</th>\n",
              "      <th>Donut Estimator 4</th>\n",
              "      <th>Donut Estimator 5</th>\n",
              "      <th>Donut volume Estimator 6</th>\n",
              "      <th>Donut Density</th>\n",
              "      <th>Donut volume</th>\n",
              "    </tr>\n",
              "  </thead>\n",
              "  <tbody>\n",
              "    <tr>\n",
              "      <th>count</th>\n",
              "      <td>668.000000</td>\n",
              "      <td>668.000000</td>\n",
              "      <td>668.000000</td>\n",
              "      <td>668.000000</td>\n",
              "      <td>668.000000</td>\n",
              "      <td>668.000000</td>\n",
              "      <td>668.000000</td>\n",
              "      <td>668.000000</td>\n",
              "      <td>668.000000</td>\n",
              "      <td>668.000000</td>\n",
              "      <td>668.000000</td>\n",
              "      <td>668.000000</td>\n",
              "    </tr>\n",
              "    <tr>\n",
              "      <th>mean</th>\n",
              "      <td>333.270958</td>\n",
              "      <td>392.332964</td>\n",
              "      <td>762.221707</td>\n",
              "      <td>840.392814</td>\n",
              "      <td>0.203967</td>\n",
              "      <td>1089.282051</td>\n",
              "      <td>1063.742994</td>\n",
              "      <td>722.072889</td>\n",
              "      <td>716.751272</td>\n",
              "      <td>753.590898</td>\n",
              "      <td>26.948204</td>\n",
              "      <td>81.945210</td>\n",
              "    </tr>\n",
              "    <tr>\n",
              "      <th>std</th>\n",
              "      <td>193.478782</td>\n",
              "      <td>54.550914</td>\n",
              "      <td>127.088277</td>\n",
              "      <td>91.493476</td>\n",
              "      <td>0.092670</td>\n",
              "      <td>150.962015</td>\n",
              "      <td>143.934316</td>\n",
              "      <td>114.194351</td>\n",
              "      <td>116.760236</td>\n",
              "      <td>87.417412</td>\n",
              "      <td>4.494664</td>\n",
              "      <td>10.593521</td>\n",
              "    </tr>\n",
              "    <tr>\n",
              "      <th>min</th>\n",
              "      <td>1.000000</td>\n",
              "      <td>284.500000</td>\n",
              "      <td>406.540000</td>\n",
              "      <td>632.080000</td>\n",
              "      <td>0.050000</td>\n",
              "      <td>698.400000</td>\n",
              "      <td>682.930000</td>\n",
              "      <td>510.310000</td>\n",
              "      <td>496.370000</td>\n",
              "      <td>467.470000</td>\n",
              "      <td>14.400000</td>\n",
              "      <td>51.400000</td>\n",
              "    </tr>\n",
              "    <tr>\n",
              "      <th>25%</th>\n",
              "      <td>165.750000</td>\n",
              "      <td>353.227500</td>\n",
              "      <td>679.695000</td>\n",
              "      <td>774.545000</td>\n",
              "      <td>0.130000</td>\n",
              "      <td>980.797500</td>\n",
              "      <td>962.987500</td>\n",
              "      <td>635.502500</td>\n",
              "      <td>629.210000</td>\n",
              "      <td>692.737500</td>\n",
              "      <td>24.337500</td>\n",
              "      <td>75.475000</td>\n",
              "    </tr>\n",
              "    <tr>\n",
              "      <th>50%</th>\n",
              "      <td>333.500000</td>\n",
              "      <td>381.855000</td>\n",
              "      <td>769.925000</td>\n",
              "      <td>831.195000</td>\n",
              "      <td>0.195000</td>\n",
              "      <td>1083.340000</td>\n",
              "      <td>1058.705000</td>\n",
              "      <td>703.140000</td>\n",
              "      <td>695.435000</td>\n",
              "      <td>751.805000</td>\n",
              "      <td>27.500000</td>\n",
              "      <td>83.250000</td>\n",
              "    </tr>\n",
              "    <tr>\n",
              "      <th>75%</th>\n",
              "      <td>500.250000</td>\n",
              "      <td>422.772500</td>\n",
              "      <td>853.495000</td>\n",
              "      <td>897.385000</td>\n",
              "      <td>0.270000</td>\n",
              "      <td>1186.655000</td>\n",
              "      <td>1156.232500</td>\n",
              "      <td>791.310000</td>\n",
              "      <td>788.210000</td>\n",
              "      <td>809.480000</td>\n",
              "      <td>29.600000</td>\n",
              "      <td>88.525000</td>\n",
              "    </tr>\n",
              "    <tr>\n",
              "      <th>max</th>\n",
              "      <td>668.000000</td>\n",
              "      <td>688.450000</td>\n",
              "      <td>1119.520000</td>\n",
              "      <td>1188.630000</td>\n",
              "      <td>0.500000</td>\n",
              "      <td>1588.350000</td>\n",
              "      <td>1546.450000</td>\n",
              "      <td>1302.180000</td>\n",
              "      <td>1409.790000</td>\n",
              "      <td>1096.220000</td>\n",
              "      <td>68.000000</td>\n",
              "      <td>136.000000</td>\n",
              "    </tr>\n",
              "  </tbody>\n",
              "</table>\n",
              "</div>"
            ],
            "text/plain": [
              "         Donut ID  Donut Estimator 1  Donut Area of cross section  \\\n",
              "count  668.000000         668.000000                   668.000000   \n",
              "mean   333.270958         392.332964                   762.221707   \n",
              "std    193.478782          54.550914                   127.088277   \n",
              "min      1.000000         284.500000                   406.540000   \n",
              "25%    165.750000         353.227500                   679.695000   \n",
              "50%    333.500000         381.855000                   769.925000   \n",
              "75%    500.250000         422.772500                   853.495000   \n",
              "max    668.000000         688.450000                  1119.520000   \n",
              "\n",
              "       Donut Area of circumference circle  \\\n",
              "count                          668.000000   \n",
              "mean                           840.392814   \n",
              "std                             91.493476   \n",
              "min                            632.080000   \n",
              "25%                            774.545000   \n",
              "50%                            831.195000   \n",
              "75%                            897.385000   \n",
              "max                           1188.630000   \n",
              "\n",
              "       Donut area of central hole / Donut Area of circumscribed circle  \\\n",
              "count                                         668.000000                 \n",
              "mean                                            0.203967                 \n",
              "std                                             0.092670                 \n",
              "min                                             0.050000                 \n",
              "25%                                             0.130000                 \n",
              "50%                                             0.195000                 \n",
              "75%                                             0.270000                 \n",
              "max                                             0.500000                 \n",
              "\n",
              "       Donut Estimator 2  Donut Estimator 3  Donut Estimator 4  \\\n",
              "count         668.000000         668.000000         668.000000   \n",
              "mean         1089.282051        1063.742994         722.072889   \n",
              "std           150.962015         143.934316         114.194351   \n",
              "min           698.400000         682.930000         510.310000   \n",
              "25%           980.797500         962.987500         635.502500   \n",
              "50%          1083.340000        1058.705000         703.140000   \n",
              "75%          1186.655000        1156.232500         791.310000   \n",
              "max          1588.350000        1546.450000        1302.180000   \n",
              "\n",
              "       Donut Estimator 5  Donut volume Estimator 6  Donut Density  \\\n",
              "count         668.000000                668.000000     668.000000   \n",
              "mean          716.751272                753.590898      26.948204   \n",
              "std           116.760236                 87.417412       4.494664   \n",
              "min           496.370000                467.470000      14.400000   \n",
              "25%           629.210000                692.737500      24.337500   \n",
              "50%           695.435000                751.805000      27.500000   \n",
              "75%           788.210000                809.480000      29.600000   \n",
              "max          1409.790000               1096.220000      68.000000   \n",
              "\n",
              "       Donut volume  \n",
              "count    668.000000  \n",
              "mean      81.945210  \n",
              "std       10.593521  \n",
              "min       51.400000  \n",
              "25%       75.475000  \n",
              "50%       83.250000  \n",
              "75%       88.525000  \n",
              "max      136.000000  "
            ]
          },
          "metadata": {
            "tags": []
          },
          "execution_count": 11
        }
      ]
    },
    {
      "metadata": {
        "id": "CPyFM_hGkhhI",
        "colab_type": "code",
        "colab": {},
        "outputId": "c90ad963-2fea-460a-a175-71e0ac84da7c"
      },
      "cell_type": "code",
      "source": [
        "print ('The training data has {0} rows and {1} columns'.format(train.shape[0],train.shape[1]))\n",
        "print ('----------------------------')\n",
        "print ('The testing data has {0} rows and {1} columns'.format(test.shape[0],test.shape[1]))"
      ],
      "execution_count": 0,
      "outputs": [
        {
          "output_type": "stream",
          "text": [
            "The training data has 749 rows and 13 columns\n",
            "----------------------------\n",
            "The testing data has 668 rows and 13 columns\n"
          ],
          "name": "stdout"
        }
      ]
    },
    {
      "metadata": {
        "id": "nBZRH0-KkhhN",
        "colab_type": "code",
        "colab": {},
        "outputId": "88cdada9-0f48-4971-bd24-fdc438cb84d7"
      },
      "cell_type": "code",
      "source": [
        "#checking the training data set information \n",
        "train.info()"
      ],
      "execution_count": 0,
      "outputs": [
        {
          "output_type": "stream",
          "text": [
            "<class 'pandas.core.frame.DataFrame'>\n",
            "RangeIndex: 749 entries, 0 to 748\n",
            "Data columns (total 13 columns):\n",
            "Donut ID                                                           749 non-null int64\n",
            "Donut Estimator 1                                                  749 non-null float64\n",
            "Donut Area of cross section                                        749 non-null float64\n",
            "Donut Area of circumference circle                                 749 non-null float64\n",
            "Donut area of central hole / Donut Area of circumscribed circle    749 non-null float64\n",
            "Donut  Estimator 2                                                 749 non-null float64\n",
            "Donut  Estimator 3                                                 749 non-null float64\n",
            "Donut  Estimator 4                                                 749 non-null float64\n",
            "Donut  Estimator 5                                                 749 non-null float64\n",
            "Donut volume Estimator 6                                           749 non-null float64\n",
            "Location                                                           749 non-null object\n",
            "Donut Density                                                      749 non-null float64\n",
            "Donut volume                                                       749 non-null float64\n",
            "dtypes: float64(11), int64(1), object(1)\n",
            "memory usage: 76.1+ KB\n"
          ],
          "name": "stdout"
        }
      ]
    },
    {
      "metadata": {
        "id": "1sRHK7AmkhhQ",
        "colab_type": "code",
        "colab": {},
        "outputId": "8b5a78a1-c3a2-427e-de39-fcc55c262820"
      },
      "cell_type": "code",
      "source": [
        "#checking the testing data set information\n",
        "test.info()"
      ],
      "execution_count": 0,
      "outputs": [
        {
          "output_type": "stream",
          "text": [
            "<class 'pandas.core.frame.DataFrame'>\n",
            "RangeIndex: 668 entries, 0 to 667\n",
            "Data columns (total 13 columns):\n",
            "Donut ID                                                           668 non-null int64\n",
            "Donut Estimator 1                                                  668 non-null float64\n",
            "Donut Area of cross section                                        668 non-null float64\n",
            "Donut Area of circumference circle                                 668 non-null float64\n",
            "Donut area of central hole / Donut Area of circumscribed circle    668 non-null float64\n",
            "Donut Estimator 2                                                  668 non-null float64\n",
            "Donut Estimator 3                                                  668 non-null float64\n",
            "Donut Estimator 4                                                  668 non-null float64\n",
            "Donut Estimator 5                                                  668 non-null float64\n",
            "Donut volume Estimator 6                                           668 non-null float64\n",
            "Location                                                           668 non-null object\n",
            "Donut Density                                                      668 non-null float64\n",
            "Donut volume                                                       668 non-null float64\n",
            "dtypes: float64(11), int64(1), object(1)\n",
            "memory usage: 67.9+ KB\n"
          ],
          "name": "stdout"
        }
      ]
    },
    {
      "metadata": {
        "id": "WLhSkGz0khhT",
        "colab_type": "code",
        "colab": {},
        "outputId": "4b386ddf-9747-4ed2-a60f-42ecf1544db1"
      },
      "cell_type": "code",
      "source": [
        "#checking if the training data set has any missing values.\n",
        "train.columns[train.isnull().any()]"
      ],
      "execution_count": 0,
      "outputs": [
        {
          "output_type": "execute_result",
          "data": {
            "text/plain": [
              "Index([], dtype='object')"
            ]
          },
          "metadata": {
            "tags": []
          },
          "execution_count": 15
        }
      ]
    },
    {
      "metadata": {
        "id": "IQysLhO3khhW",
        "colab_type": "code",
        "colab": {},
        "outputId": "b2cce288-1943-4dc7-e476-37bd3fdccf8e"
      },
      "cell_type": "code",
      "source": [
        "#checking if the testing data set has any missing values.\n",
        "test.columns[test.isnull().any()]"
      ],
      "execution_count": 0,
      "outputs": [
        {
          "output_type": "execute_result",
          "data": {
            "text/plain": [
              "Index([], dtype='object')"
            ]
          },
          "metadata": {
            "tags": []
          },
          "execution_count": 16
        }
      ]
    },
    {
      "metadata": {
        "id": "3O-2xyIAkhhY",
        "colab_type": "code",
        "colab": {},
        "outputId": "f3712362-64bb-4b11-9faf-553f8e583ea6"
      },
      "cell_type": "code",
      "source": [
        "#checking the distribution of the target variable.\n",
        "#Donut volume\n",
        "sns.distplot(train['Donut volume'])"
      ],
      "execution_count": 0,
      "outputs": [
        {
          "output_type": "stream",
          "text": [
            "D:\\python2\\lib\\site-packages\\matplotlib\\axes\\_axes.py:6462: UserWarning: The 'normed' kwarg is deprecated, and has been replaced by the 'density' kwarg.\n",
            "  warnings.warn(\"The 'normed' kwarg is deprecated, and has been \"\n"
          ],
          "name": "stderr"
        },
        {
          "output_type": "execute_result",
          "data": {
            "text/plain": [
              "<matplotlib.axes._subplots.AxesSubplot at 0xc01b748>"
            ]
          },
          "metadata": {
            "tags": []
          },
          "execution_count": 19
        },
        {
          "output_type": "display_data",
          "data": {
            "image/png": "[encoded data removed]",
            "text/plain": [
              "<Figure size 720x576 with 1 Axes>"
            ]
          },
          "metadata": {
            "tags": []
          }
        }
      ]
    },
    {
      "metadata": {
        "id": "W2MZNyIikhhc",
        "colab_type": "code",
        "colab": {},
        "outputId": "beb72cce-5204-4c15-d55f-07408b9c0eb6"
      },
      "cell_type": "code",
      "source": [
        "#confirming this skewed behavior using the skewness metric\n",
        "#skewness\n",
        "print \"The skewness of Donut volume is {}\".format(train['Donut volume'].skew())"
      ],
      "execution_count": 0,
      "outputs": [
        {
          "output_type": "stream",
          "text": [
            "The skewness of Donut volume is -0.985390617519\n"
          ],
          "name": "stdout"
        }
      ]
    },
    {
      "metadata": {
        "id": "VEQrTNgSkhhh",
        "colab_type": "code",
        "colab": {},
        "outputId": "63640260-fe34-46be-e121-5e79f51207c6"
      },
      "cell_type": "code",
      "source": [
        "#checking the distribution of the target variable.\n",
        "#Donut Density\n",
        "sns.distplot(train['Donut Density'])"
      ],
      "execution_count": 0,
      "outputs": [
        {
          "output_type": "stream",
          "text": [
            "D:\\python2\\lib\\site-packages\\matplotlib\\axes\\_axes.py:6462: UserWarning: The 'normed' kwarg is deprecated, and has been replaced by the 'density' kwarg.\n",
            "  warnings.warn(\"The 'normed' kwarg is deprecated, and has been \"\n"
          ],
          "name": "stderr"
        },
        {
          "output_type": "execute_result",
          "data": {
            "text/plain": [
              "<matplotlib.axes._subplots.AxesSubplot at 0xbc72550>"
            ]
          },
          "metadata": {
            "tags": []
          },
          "execution_count": 20
        },
        {
          "output_type": "display_data",
          "data": {
            "image/png": "[encoded data removed]",
            "text/plain": [
              "<Figure size 720x576 with 1 Axes>"
            ]
          },
          "metadata": {
            "tags": []
          }
        }
      ]
    },
    {
      "metadata": {
        "id": "Opi-TK-Rkhhk",
        "colab_type": "code",
        "colab": {}
      },
      "cell_type": "code",
      "source": [
        "#Let me log transform this variable and see if this variable distribution can get any closer to normal."
      ],
      "execution_count": 0,
      "outputs": []
    },
    {
      "metadata": {
        "id": "Lku7-wWbkhhl",
        "colab_type": "code",
        "colab": {},
        "outputId": "8c3715d2-53ed-4a97-a004-a1a569967e7e"
      },
      "cell_type": "code",
      "source": [
        "#Now transforming the target variable i.e. the 'Donut volume' variable\n",
        "target = np.log(train['Donut volume'])\n",
        "print 'The skewness value is', target.skew()\n",
        "sns.distplot(target)"
      ],
      "execution_count": 0,
      "outputs": [
        {
          "output_type": "stream",
          "text": [
            "The skewness value is -11.757532357043702\n"
          ],
          "name": "stdout"
        },
        {
          "output_type": "stream",
          "text": [
            "D:\\python2\\lib\\site-packages\\matplotlib\\axes\\_axes.py:6462: UserWarning: The 'normed' kwarg is deprecated, and has been replaced by the 'density' kwarg.\n",
            "  warnings.warn(\"The 'normed' kwarg is deprecated, and has been \"\n"
          ],
          "name": "stderr"
        },
        {
          "output_type": "execute_result",
          "data": {
            "text/plain": [
              "<matplotlib.axes._subplots.AxesSubplot at 0xc1c29e8>"
            ]
          },
          "metadata": {
            "tags": []
          },
          "execution_count": 23
        },
        {
          "output_type": "display_data",
          "data": {
            "image/png": "[encoded data removed]",
            "text/plain": [
              "<Figure size 720x576 with 1 Axes>"
            ]
          },
          "metadata": {
            "tags": []
          }
        }
      ]
    },
    {
      "metadata": {
        "id": "kVt3P8wPkhhn",
        "colab_type": "code",
        "colab": {},
        "outputId": "15bd02de-bdca-411b-b2d2-dabe1cc3af37"
      },
      "cell_type": "code",
      "source": [
        "#confirming this skewed behavior using the skewness metric\n",
        "#skewness\n",
        "print \"The skewness of Donut Density is {}\".format(train['Donut Density'].skew())"
      ],
      "execution_count": 0,
      "outputs": [
        {
          "output_type": "stream",
          "text": [
            "The skewness of Donut Density is 3.02920350006\n"
          ],
          "name": "stdout"
        }
      ]
    },
    {
      "metadata": {
        "id": "bTw59fbekhhp",
        "colab_type": "code",
        "colab": {}
      },
      "cell_type": "code",
      "source": [
        "#Let me log transform this variable and see if this variable distribution can get any closer to normal."
      ],
      "execution_count": 0,
      "outputs": []
    },
    {
      "metadata": {
        "id": "t4IOrcclkhhr",
        "colab_type": "code",
        "colab": {},
        "outputId": "3f66c350-f4af-465b-b3a0-9c650f1488a7"
      },
      "cell_type": "code",
      "source": [
        "#Now transforming the target variable i.e. the 'Donut Density' variable\n",
        "target = np.log(train['Donut Density'])\n",
        "print 'The skewness value is', target.skew()\n",
        "sns.distplot(target)"
      ],
      "execution_count": 0,
      "outputs": [
        {
          "output_type": "stream",
          "text": [
            "The skewness value is -0.5699276569000437\n"
          ],
          "name": "stdout"
        },
        {
          "output_type": "stream",
          "text": [
            "D:\\python2\\lib\\site-packages\\matplotlib\\axes\\_axes.py:6462: UserWarning: The 'normed' kwarg is deprecated, and has been replaced by the 'density' kwarg.\n",
            "  warnings.warn(\"The 'normed' kwarg is deprecated, and has been \"\n"
          ],
          "name": "stderr"
        },
        {
          "output_type": "execute_result",
          "data": {
            "text/plain": [
              "<matplotlib.axes._subplots.AxesSubplot at 0xc442e80>"
            ]
          },
          "metadata": {
            "tags": []
          },
          "execution_count": 24
        },
        {
          "output_type": "display_data",
          "data": {
            "image/png": "[encoded data removed]",
            "text/plain": [
              "<Figure size 720x576 with 1 Axes>"
            ]
          },
          "metadata": {
            "tags": []
          }
        }
      ]
    },
    {
      "metadata": {
        "id": "R75PNty-khht",
        "colab_type": "code",
        "colab": {},
        "outputId": "35ad50ef-e676-438e-f136-f15880674dc2"
      },
      "cell_type": "code",
      "source": [
        "#correlation plot for test data\n",
        "corr = test.corr()\n",
        "sns.heatmap(corr)"
      ],
      "execution_count": 0,
      "outputs": [
        {
          "output_type": "execute_result",
          "data": {
            "text/plain": [
              "<matplotlib.axes._subplots.AxesSubplot at 0xc884400>"
            ]
          },
          "metadata": {
            "tags": []
          },
          "execution_count": 25
        },
        {
          "output_type": "display_data",
          "data": {
            "image/png": "[encoded data removed]",
            "text/plain": [
              "<Figure size 720x576 with 2 Axes>"
            ]
          },
          "metadata": {
            "tags": []
          }
        }
      ]
    },
    {
      "metadata": {
        "id": "qol3dI7ykhhw",
        "colab_type": "code",
        "colab": {},
        "outputId": "7425aa26-0d76-41e3-bd08-3f51d428ecc2"
      },
      "cell_type": "code",
      "source": [
        "#correlation plot for train data\n",
        "corr = train.corr()\n",
        "sns.heatmap(corr)"
      ],
      "execution_count": 0,
      "outputs": [
        {
          "output_type": "execute_result",
          "data": {
            "text/plain": [
              "<matplotlib.axes._subplots.AxesSubplot at 0xe1b3358>"
            ]
          },
          "metadata": {
            "tags": []
          },
          "execution_count": 26
        },
        {
          "output_type": "display_data",
          "data": {
            "image/png": "[encoded data removed]",
            "text/plain": [
              "<Figure size 720x576 with 2 Axes>"
            ]
          },
          "metadata": {
            "tags": []
          }
        }
      ]
    },
    {
      "metadata": {
        "id": "RSqd95ZLkhhy",
        "colab_type": "code",
        "colab": {},
        "outputId": "f330abd3-2fc1-4fc3-de3b-7513d7143199"
      },
      "cell_type": "code",
      "source": [
        "print (corr['Donut volume'].sort_values(ascending=False)[:15], '\\n') #top 15 values\n",
        "print ('----------------------')\n",
        "print (corr['Donut volume'].sort_values(ascending=False)[-5:]) #last 5 values`"
      ],
      "execution_count": 0,
      "outputs": [
        {
          "output_type": "stream",
          "text": [
            "(Donut volume                                                       1.000000\n",
            "Donut Density                                                      0.817619\n",
            "Donut ID                                                           0.704525\n",
            "Donut Area of cross section                                        0.592680\n",
            "Donut  Estimator 3                                                 0.561486\n",
            "Donut  Estimator 2                                                 0.547625\n",
            "Donut Area of circumference circle                                 0.498201\n",
            "Donut volume Estimator 6                                           0.479220\n",
            "Donut  Estimator 4                                                 0.442995\n",
            "Donut Estimator 1                                                  0.439096\n",
            "Donut  Estimator 5                                                 0.415256\n",
            "Donut area of central hole / Donut Area of circumscribed circle   -0.171451\n",
            "Name: Donut volume, dtype: float64, '\\n')\n",
            "----------------------\n",
            "Donut volume Estimator 6                                           0.479220\n",
            "Donut  Estimator 4                                                 0.442995\n",
            "Donut Estimator 1                                                  0.439096\n",
            "Donut  Estimator 5                                                 0.415256\n",
            "Donut area of central hole / Donut Area of circumscribed circle   -0.171451\n",
            "Name: Donut volume, dtype: float64\n"
          ],
          "name": "stdout"
        }
      ]
    },
    {
      "metadata": {
        "id": "V1a1_nA-khh1",
        "colab_type": "code",
        "colab": {},
        "outputId": "1c0a1db7-cfa5-4c14-f816-dfc026826fc6"
      },
      "cell_type": "code",
      "source": [
        "print (corr['Donut Density'].sort_values(ascending=False)[:15], '\\n') #top 15 values\n",
        "print ('----------------------')\n",
        "print (corr['Donut Density'].sort_values(ascending=False)[-5:]) #last 5 values`"
      ],
      "execution_count": 0,
      "outputs": [
        {
          "output_type": "stream",
          "text": [
            "(Donut Density                                                      1.000000\n",
            "Donut volume                                                       0.817619\n",
            "Donut ID                                                           0.597937\n",
            "Donut Area of cross section                                        0.542123\n",
            "Donut  Estimator 3                                                 0.517715\n",
            "Donut  Estimator 2                                                 0.489237\n",
            "Donut Area of circumference circle                                 0.459055\n",
            "Donut  Estimator 4                                                 0.458221\n",
            "Donut Estimator 1                                                  0.446399\n",
            "Donut  Estimator 5                                                 0.439096\n",
            "Donut volume Estimator 6                                           0.433809\n",
            "Donut area of central hole / Donut Area of circumscribed circle   -0.193114\n",
            "Name: Donut Density, dtype: float64, '\\n')\n",
            "----------------------\n",
            "Donut  Estimator 4                                                 0.458221\n",
            "Donut Estimator 1                                                  0.446399\n",
            "Donut  Estimator 5                                                 0.439096\n",
            "Donut volume Estimator 6                                           0.433809\n",
            "Donut area of central hole / Donut Area of circumscribed circle   -0.193114\n",
            "Name: Donut Density, dtype: float64\n"
          ],
          "name": "stdout"
        }
      ]
    },
    {
      "metadata": {
        "id": "eUwQClwVkhh5",
        "colab_type": "code",
        "colab": {},
        "outputId": "a5662d2a-78cc-4cdb-a8dd-ae6311c81d84"
      },
      "cell_type": "code",
      "source": [
        "train['Donut ID'].unique()"
      ],
      "execution_count": 0,
      "outputs": [
        {
          "output_type": "execute_result",
          "data": {
            "text/plain": [
              "array([  1,   2,   3,   4,   5,   6,   7,   8,   9,  10,  11,  12,  13,\n",
              "        14,  15,  16,  17,  18,  19,  20,  21,  22,  23,  24,  25,  26,\n",
              "        27,  28,  29,  30,  31,  32,  33,  34,  35,  36,  37,  38,  39,\n",
              "        40,  41,  42,  43,  44,  45,  46,  47,  48,  49,  50,  51,  52,\n",
              "        53,  54,  55,  56,  57,  58,  59,  60,  61,  62,  63,  64,  65,\n",
              "        66,  67,  68,  69,  70,  71,  72,  73,  74,  75,  76,  77,  78,\n",
              "        79,  80,  81,  82,  83,  84,  85,  86,  87,  88,  89,  90,  91,\n",
              "        92,  93,  94,  95,  96,  97,  98,  99, 100, 101, 102, 103, 104,\n",
              "       105, 106, 107, 108, 109, 110, 111, 112, 113, 114, 115, 116, 117,\n",
              "       118, 119, 120, 121, 122, 123, 124, 125, 126, 127, 128, 129, 130,\n",
              "       131, 132, 133, 134, 135, 136, 137, 138, 139, 140, 141, 142, 143,\n",
              "       144, 145, 146, 147, 148, 149, 150, 151, 152, 153, 154, 155, 156,\n",
              "       157, 158, 159, 160, 161, 162, 163, 164, 165, 166, 167, 168, 169,\n",
              "       170, 171, 172, 173, 174, 175, 176, 177, 178, 179, 180, 181, 182,\n",
              "       183, 184, 185, 186, 187, 188, 189, 190, 191, 192, 193, 194, 195,\n",
              "       196, 197, 198, 199, 200, 201, 202, 203, 204, 205, 206, 207, 208,\n",
              "       209, 210, 211, 212, 213, 214, 215, 216, 217, 218, 219, 220, 221,\n",
              "       222, 223, 224, 225, 226, 227, 228, 229, 230, 231, 232, 233, 234,\n",
              "       235, 236, 237, 238, 239, 240, 241, 242, 243, 244, 245, 246, 247,\n",
              "       248, 249, 250, 251, 252, 253, 254, 255, 256, 257, 258, 259, 260,\n",
              "       261, 262, 263, 264, 265, 266, 267, 268, 269, 270, 271, 272, 273,\n",
              "       274, 275, 276, 277, 278, 279, 280, 281, 282, 283, 284, 285, 286,\n",
              "       287, 288, 289, 290, 291, 292, 293, 294, 295, 296, 297, 298, 299,\n",
              "       300, 301, 302, 303, 304, 305, 306, 307, 308, 309, 310, 311, 312,\n",
              "       313, 314, 315, 316, 317, 318, 319, 320, 321, 322, 323, 324, 325,\n",
              "       326, 327, 328, 329, 330, 331, 332, 333, 334, 335, 336, 337, 338,\n",
              "       339, 340, 341, 342, 343, 344, 345, 346, 347, 348, 349, 350, 351,\n",
              "       352, 353, 354, 355, 356, 357, 358, 359, 360, 361, 362, 363, 364,\n",
              "       365, 366, 367, 368, 369, 370, 371, 372, 373, 374, 375, 376, 377,\n",
              "       378, 379, 380, 381, 382, 383, 384, 385, 386, 387, 388, 389, 390,\n",
              "       391, 392, 393, 394, 395, 396, 397, 398, 399, 400, 401, 402, 403,\n",
              "       404, 405, 406, 407, 408, 409, 410, 411, 412, 413, 414, 415, 416,\n",
              "       417, 418, 419, 420, 421, 422, 423, 424, 425, 426, 427, 428, 429,\n",
              "       430, 431, 432, 433, 434, 435, 436, 437, 438, 439, 440, 441, 442,\n",
              "       443, 444, 445, 446, 447, 448, 449, 450, 451, 452, 453, 454, 455,\n",
              "       456, 457, 458, 459, 460, 461, 462, 463, 464, 465, 466, 467, 468,\n",
              "       469, 470, 471, 472, 473, 474, 475, 476, 477, 478, 479, 480, 481,\n",
              "       482, 483, 484, 485, 486, 487, 488, 489, 490, 491, 492, 493, 494,\n",
              "       495, 496, 497, 498, 499, 500, 501, 502, 503, 504, 505, 506, 507,\n",
              "       508, 509, 510, 511, 512, 513, 514, 515, 516, 517, 518, 519, 520,\n",
              "       521, 522, 523, 524, 525, 526, 527, 528, 529, 530, 531, 532, 533,\n",
              "       534, 535, 536, 537, 538, 539, 540, 541, 542, 543, 544, 545, 546,\n",
              "       547, 548, 549, 550, 551, 552, 553, 554, 555, 556, 557, 558, 559,\n",
              "       560, 561, 562, 563, 564, 565, 566, 567, 568, 569, 570, 571, 572,\n",
              "       573, 574, 575, 576, 577, 578, 579, 580, 581, 582, 583, 584, 585,\n",
              "       586, 587, 588, 589, 590, 591, 592, 593, 594, 595, 596, 597, 598,\n",
              "       599, 600, 601, 602, 603, 604, 605, 606, 607, 608, 609, 610, 611,\n",
              "       612, 613, 614, 615, 616, 617, 618, 619, 620, 621, 622, 623, 624,\n",
              "       625, 626, 627, 628, 629, 630, 631, 632, 633, 634, 635, 636, 637,\n",
              "       638, 639, 640, 641, 642, 643, 644, 645, 646, 647, 648, 649, 650,\n",
              "       651, 652, 653, 654, 655, 656, 657, 658, 659, 660, 661, 662, 663,\n",
              "       664, 665, 666, 667, 668, 669, 670, 671, 672, 673, 674, 675, 676,\n",
              "       677, 678, 679, 680, 681, 682, 683, 684, 685, 686, 687, 688, 689,\n",
              "       690, 691, 692, 693, 694, 695, 696, 697, 698, 699, 700, 701, 702,\n",
              "       703, 704, 705, 706, 707, 708, 709, 710, 711, 712, 713, 714, 715,\n",
              "       716, 717, 718, 719, 720, 721, 722, 723, 724, 725, 726, 727, 728,\n",
              "       729, 730, 731, 732, 733, 734, 735, 736, 737, 738, 739, 740, 741,\n",
              "       742, 743, 744, 745, 746, 747, 748, 749], dtype=int64)"
            ]
          },
          "metadata": {
            "tags": []
          },
          "execution_count": 30
        }
      ]
    },
    {
      "metadata": {
        "id": "741-hcjEkhh9",
        "colab_type": "code",
        "colab": {},
        "outputId": "0ab81ba3-f715-4a91-e424-9961c4902236"
      },
      "cell_type": "code",
      "source": [
        "test['Donut ID'].unique()"
      ],
      "execution_count": 0,
      "outputs": [
        {
          "output_type": "execute_result",
          "data": {
            "text/plain": [
              "array([  1,   2,   3,   4,   5,   6,   7,   8,   9,  10,  11,  12,  13,\n",
              "        14,  15,  16,  17,  18,  19,  20,  21,  22,  23,  24,  25,  26,\n",
              "        27,  28,  29,  30,  31,  32,  33,  34,  35,  36,  37,  38,  39,\n",
              "        40,  41,  42,  43,  44,  45,  46,  47,  48,  49,  50,  51,  52,\n",
              "        53,  54,  55,  56,  57,  58,  59,  60,  61,  62,  63,  64,  65,\n",
              "        66,  67,  68,  69,  70,  71,  72,  73,  74,  75,  76,  77,  78,\n",
              "        79,  80,  81,  82,  83,  84,  85,  86,  87,  88,  89,  90,  91,\n",
              "        92,  93,  94,  95,  96,  97,  98,  99, 100, 101, 102, 103, 104,\n",
              "       105, 106, 107, 108, 109, 110, 111, 112, 113, 114, 115, 116, 117,\n",
              "       118, 119, 120, 121, 122, 123, 124, 125, 126, 127, 128, 129, 130,\n",
              "       131, 132, 133, 134, 135, 136, 137, 138, 139, 140, 141, 142, 143,\n",
              "       144, 145, 146, 147, 148, 149, 150, 151, 152, 153, 154, 155, 156,\n",
              "       157, 158, 159, 160, 161, 162, 163, 164, 165, 166, 167, 168, 169,\n",
              "       170, 171, 172, 173, 174, 175, 176, 177, 178, 179, 180, 181, 182,\n",
              "       183, 184, 185, 186, 187, 188, 189, 190, 191, 192, 193, 194, 195,\n",
              "       196, 197, 198, 199, 200, 201, 202, 203, 204, 205, 206, 207, 208,\n",
              "       209, 210, 211, 213, 214, 215, 216, 217, 218, 219, 220, 221, 222,\n",
              "       223, 224, 225, 226, 227, 228, 229, 230, 231, 232, 233, 234, 235,\n",
              "       236, 237, 238, 239, 240, 241, 242, 243, 244, 245, 246, 247, 248,\n",
              "       249, 250, 251, 252, 253, 254, 255, 256, 257, 258, 259, 260, 261,\n",
              "       262, 263, 264, 265, 266, 267, 268, 269, 270, 271, 272, 273, 274,\n",
              "       275, 276, 277, 278, 279, 280, 281, 282, 283, 284, 285, 286, 287,\n",
              "       288, 289, 290, 291, 292, 293, 294, 295, 296, 297, 298, 299, 300,\n",
              "       301, 302, 303, 304, 305, 306, 307, 308, 309, 310, 311, 312, 313,\n",
              "       314, 315, 316, 317, 318, 319, 320, 321, 322, 323, 324, 325, 326,\n",
              "       327, 328, 329, 330, 331, 332, 333, 334, 335, 336, 337, 338, 339,\n",
              "       340, 341, 342, 343, 344, 345, 346, 347, 348, 349, 350, 351, 352,\n",
              "       353, 354, 355, 356, 357, 358, 359, 360, 361, 362, 363, 364, 365,\n",
              "       366, 367, 368, 369, 370, 371, 372, 373, 374, 375, 376, 377, 378,\n",
              "       379, 380, 381, 382, 383, 384, 385, 386, 387, 388, 389, 390, 391,\n",
              "       392, 393, 394, 395, 396, 397, 398, 399, 400, 401, 402, 403, 404,\n",
              "       405, 406, 407, 408, 409, 410, 411, 412, 413, 414, 415, 416, 417,\n",
              "       418, 419, 420, 421, 422, 423, 424, 425, 426, 427, 428, 429, 430,\n",
              "       431, 432, 433, 434, 435, 436, 437, 438, 439, 440, 441, 442, 443,\n",
              "       444, 445, 446, 447, 448, 449, 450, 451, 452, 453, 454, 455, 456,\n",
              "       457, 458, 459, 460, 461, 462, 463, 464, 465, 466, 467, 468, 469,\n",
              "       470, 471, 472, 473, 474, 475, 476, 477, 478, 479, 480, 481, 482,\n",
              "       483, 484, 485, 486, 487, 488, 489, 490, 491, 492, 493, 494, 495,\n",
              "       496, 497, 498, 499, 500, 501, 502, 503, 504, 505, 506, 507, 508,\n",
              "       509, 510, 511, 512, 513, 514, 515, 516, 517, 518, 519, 520, 521,\n",
              "       522, 523, 524, 525, 526, 527, 528, 529, 530, 531, 532, 533, 534,\n",
              "       535, 536, 537, 538, 539, 540, 541, 542, 543, 544, 545, 546, 547,\n",
              "       548, 549, 550, 551, 552, 553, 554, 555, 556, 557, 558, 559, 560,\n",
              "       561, 562, 563, 564, 565, 566, 567, 568, 569, 570, 571, 572, 573,\n",
              "       574, 575, 576, 577, 578, 579, 580, 581, 582, 583, 584, 585, 586,\n",
              "       587, 588, 589, 590, 591, 592, 593, 594, 595, 596, 597, 598, 599,\n",
              "       600, 601, 602, 603, 604, 605, 606, 607, 608, 609, 610, 611, 613,\n",
              "       614, 615, 616, 617, 618, 619, 620, 621, 622, 623, 624, 625, 626,\n",
              "       627, 628, 629, 630, 631, 632, 633, 634, 635, 636, 637, 638, 639,\n",
              "       640, 641, 642, 643, 644, 645, 646, 647, 648, 649, 650, 651, 652,\n",
              "       653, 654, 655, 656, 657, 658, 659, 660, 661, 662, 663, 664, 665,\n",
              "       666, 667, 668], dtype=int64)"
            ]
          },
          "metadata": {
            "tags": []
          },
          "execution_count": 31
        }
      ]
    },
    {
      "metadata": {
        "id": "zfblJgeekhh_",
        "colab_type": "code",
        "colab": {},
        "outputId": "0c607b12-971f-4ba1-b95f-9db6c01cf8f7"
      },
      "cell_type": "code",
      "source": [
        "pivot = train.pivot_table(index='Donut ID', values='Donut volume', aggfunc=np.median)\n",
        "print(type(pivot))\n",
        "pivot.sort_values"
      ],
      "execution_count": 0,
      "outputs": [
        {
          "output_type": "stream",
          "text": [
            "<class 'pandas.core.frame.DataFrame'>\n"
          ],
          "name": "stdout"
        },
        {
          "output_type": "execute_result",
          "data": {
            "text/plain": [
              "<bound method DataFrame.sort_values of           Donut volume\n",
              "Donut ID              \n",
              "1                 52.1\n",
              "2                 54.2\n",
              "3                 54.8\n",
              "4                 56.6\n",
              "5                 56.9\n",
              "6                 57.1\n",
              "7                 58.1\n",
              "8                 58.6\n",
              "9                 59.1\n",
              "10                59.2\n",
              "11                60.1\n",
              "12                60.4\n",
              "13                60.6\n",
              "14                60.6\n",
              "15                61.1\n",
              "16                61.6\n",
              "17                62.4\n",
              "18                63.3\n",
              "19                63.5\n",
              "20                63.6\n",
              "21                64.7\n",
              "22                64.8\n",
              "23                65.2\n",
              "24                65.3\n",
              "25                65.7\n",
              "26                65.7\n",
              "27                66.4\n",
              "28                66.4\n",
              "29                66.9\n",
              "30                66.9\n",
              "...                ...\n",
              "720               96.0\n",
              "721               96.7\n",
              "722               97.0\n",
              "723               97.0\n",
              "724               97.0\n",
              "725               97.0\n",
              "726               98.0\n",
              "727               98.0\n",
              "728               98.0\n",
              "729               98.1\n",
              "730               99.0\n",
              "731               99.0\n",
              "732              100.0\n",
              "733              100.0\n",
              "734              101.0\n",
              "735              101.9\n",
              "736              102.0\n",
              "737              103.0\n",
              "738              104.0\n",
              "739              105.0\n",
              "740              105.0\n",
              "741              105.0\n",
              "742              105.1\n",
              "743              106.0\n",
              "744              108.0\n",
              "745              109.0\n",
              "746              110.0\n",
              "747              110.0\n",
              "748              112.0\n",
              "749              122.6\n",
              "\n",
              "[749 rows x 1 columns]>"
            ]
          },
          "metadata": {
            "tags": []
          },
          "execution_count": 32
        }
      ]
    },
    {
      "metadata": {
        "id": "_Uq_1o0VkhiC",
        "colab_type": "code",
        "colab": {},
        "outputId": "0477e0c9-f308-4c37-f1de-bbae52276559"
      },
      "cell_type": "code",
      "source": [
        "pivot.plot(kind='bar', color='red')"
      ],
      "execution_count": 0,
      "outputs": [
        {
          "output_type": "execute_result",
          "data": {
            "text/plain": [
              "<matplotlib.axes._subplots.AxesSubplot at 0xe45c438>"
            ]
          },
          "metadata": {
            "tags": []
          },
          "execution_count": 33
        },
        {
          "output_type": "display_data",
          "data": {
            "image/png": "[encoded data removed]",
            "text/plain": [
              "<Figure size 720x576 with 1 Axes>"
            ]
          },
          "metadata": {
            "tags": []
          }
        }
      ]
    },
    {
      "metadata": {
        "id": "Jomlzq3FkhiI",
        "colab_type": "code",
        "colab": {},
        "outputId": "a2dfa778-f75f-4e31-b895-85f9143ba89d"
      },
      "cell_type": "code",
      "source": [
        "pivot = train.pivot_table(index='Donut ID', values='Donut Density', aggfunc=np.median)\n",
        "print(type(pivot))\n",
        "pivot.sort_values"
      ],
      "execution_count": 0,
      "outputs": [
        {
          "output_type": "stream",
          "text": [
            "<class 'pandas.core.frame.DataFrame'>\n"
          ],
          "name": "stdout"
        },
        {
          "output_type": "execute_result",
          "data": {
            "text/plain": [
              "<bound method DataFrame.sort_values of           Donut Density\n",
              "Donut ID               \n",
              "1                  14.3\n",
              "2                  15.8\n",
              "3                  16.3\n",
              "4                  16.6\n",
              "5                  18.3\n",
              "6                  16.0\n",
              "7                  16.4\n",
              "8                  15.4\n",
              "9                  18.4\n",
              "10                 18.6\n",
              "11                 18.5\n",
              "12                 18.9\n",
              "13                 17.1\n",
              "14                 18.6\n",
              "15                 18.9\n",
              "16                 19.5\n",
              "17                 20.5\n",
              "18                 20.3\n",
              "19                 20.0\n",
              "20                 19.3\n",
              "21                 19.6\n",
              "22                 19.1\n",
              "23                 19.2\n",
              "24                 19.9\n",
              "25                 19.4\n",
              "26                 20.1\n",
              "27                 20.7\n",
              "28                 23.1\n",
              "29                 19.6\n",
              "30                 21.1\n",
              "...                 ...\n",
              "720                31.4\n",
              "721                33.5\n",
              "722                25.3\n",
              "723                31.5\n",
              "724                31.6\n",
              "725                33.3\n",
              "726                31.3\n",
              "727                31.6\n",
              "728                31.7\n",
              "729                31.3\n",
              "730                30.2\n",
              "731                31.1\n",
              "732                32.0\n",
              "733                32.2\n",
              "734                33.1\n",
              "735                33.8\n",
              "736                32.3\n",
              "737                32.4\n",
              "738                33.6\n",
              "739                34.4\n",
              "740                36.4\n",
              "741                37.1\n",
              "742                35.8\n",
              "743                34.6\n",
              "744                35.5\n",
              "745                36.3\n",
              "746                35.0\n",
              "747                36.3\n",
              "748                36.5\n",
              "749                42.0\n",
              "\n",
              "[749 rows x 1 columns]>"
            ]
          },
          "metadata": {
            "tags": []
          },
          "execution_count": 34
        }
      ]
    },
    {
      "metadata": {
        "id": "RrnYJTx0khiM",
        "colab_type": "code",
        "colab": {},
        "outputId": "3d09cfcb-a4f9-4dfb-88f4-7a69a9d0519f"
      },
      "cell_type": "code",
      "source": [
        "pivot.plot(kind='bar', color='red')"
      ],
      "execution_count": 0,
      "outputs": [
        {
          "output_type": "execute_result",
          "data": {
            "text/plain": [
              "<matplotlib.axes._subplots.AxesSubplot at 0xe7e9940>"
            ]
          },
          "metadata": {
            "tags": []
          },
          "execution_count": 35
        },
        {
          "output_type": "display_data",
          "data": {
            "image/png": "[encoded data removed]",
            "text/plain": [
              "<Figure size 720x576 with 1 Axes>"
            ]
          },
          "metadata": {
            "tags": []
          }
        }
      ]
    },
    {
      "metadata": {
        "id": "mjfSt4yLkhiP",
        "colab_type": "code",
        "colab": {},
        "outputId": "3994569b-d9d0-4cf9-9278-1b4759c7b61e"
      },
      "cell_type": "code",
      "source": [
        "sns.jointplot(x=train['Donut ID'], y=train['Donut volume'])"
      ],
      "execution_count": 0,
      "outputs": [
        {
          "output_type": "stream",
          "text": [
            "D:\\python2\\lib\\site-packages\\matplotlib\\axes\\_axes.py:6462: UserWarning: The 'normed' kwarg is deprecated, and has been replaced by the 'density' kwarg.\n",
            "  warnings.warn(\"The 'normed' kwarg is deprecated, and has been \"\n",
            "D:\\python2\\lib\\site-packages\\matplotlib\\axes\\_axes.py:6462: UserWarning: The 'normed' kwarg is deprecated, and has been replaced by the 'density' kwarg.\n",
            "  warnings.warn(\"The 'normed' kwarg is deprecated, and has been \"\n"
          ],
          "name": "stderr"
        },
        {
          "output_type": "execute_result",
          "data": {
            "text/plain": [
              "<seaborn.axisgrid.JointGrid at 0xf9f4cc0>"
            ]
          },
          "metadata": {
            "tags": []
          },
          "execution_count": 36
        },
        {
          "output_type": "display_data",
          "data": {
            "image/png": "[encoded data removed]",
            "text/plain": [
              "<Figure size 432x432 with 3 Axes>"
            ]
          },
          "metadata": {
            "tags": []
          }
        }
      ]
    },
    {
      "metadata": {
        "id": "H1Mun6uDkhiS",
        "colab_type": "code",
        "colab": {},
        "outputId": "d7658ffe-bc55-415c-977a-d664310b874e"
      },
      "cell_type": "code",
      "source": [
        "sns.jointplot(x=train['Donut ID'], y=train['Donut Density'])"
      ],
      "execution_count": 0,
      "outputs": [
        {
          "output_type": "stream",
          "text": [
            "D:\\python2\\lib\\site-packages\\matplotlib\\axes\\_axes.py:6462: UserWarning: The 'normed' kwarg is deprecated, and has been replaced by the 'density' kwarg.\n",
            "  warnings.warn(\"The 'normed' kwarg is deprecated, and has been \"\n",
            "D:\\python2\\lib\\site-packages\\matplotlib\\axes\\_axes.py:6462: UserWarning: The 'normed' kwarg is deprecated, and has been replaced by the 'density' kwarg.\n",
            "  warnings.warn(\"The 'normed' kwarg is deprecated, and has been \"\n"
          ],
          "name": "stderr"
        },
        {
          "output_type": "execute_result",
          "data": {
            "text/plain": [
              "<seaborn.axisgrid.JointGrid at 0x15181e48>"
            ]
          },
          "metadata": {
            "tags": []
          },
          "execution_count": 37
        },
        {
          "output_type": "display_data",
          "data": {
            "image/png": "[encoded data removed]",
            "text/plain": [
              "<Figure size 432x432 with 3 Axes>"
            ]
          },
          "metadata": {
            "tags": []
          }
        }
      ]
    },
    {
      "metadata": {
        "id": "cDJ-8kLGkhiW",
        "colab_type": "code",
        "colab": {},
        "outputId": "f047b3e3-243c-4425-b861-27707a68bfda"
      },
      "cell_type": "code",
      "source": [
        "sns.jointplot(x=train['Donut Area of cross section'], y=train['Donut volume'])"
      ],
      "execution_count": 0,
      "outputs": [
        {
          "output_type": "stream",
          "text": [
            "D:\\python2\\lib\\site-packages\\matplotlib\\axes\\_axes.py:6462: UserWarning: The 'normed' kwarg is deprecated, and has been replaced by the 'density' kwarg.\n",
            "  warnings.warn(\"The 'normed' kwarg is deprecated, and has been \"\n",
            "D:\\python2\\lib\\site-packages\\matplotlib\\axes\\_axes.py:6462: UserWarning: The 'normed' kwarg is deprecated, and has been replaced by the 'density' kwarg.\n",
            "  warnings.warn(\"The 'normed' kwarg is deprecated, and has been \"\n"
          ],
          "name": "stderr"
        },
        {
          "output_type": "execute_result",
          "data": {
            "text/plain": [
              "<seaborn.axisgrid.JointGrid at 0x15a63860>"
            ]
          },
          "metadata": {
            "tags": []
          },
          "execution_count": 38
        },
        {
          "output_type": "display_data",
          "data": {
            "image/png": "[encoded data removed]",
            "text/plain": [
              "<Figure size 432x432 with 3 Axes>"
            ]
          },
          "metadata": {
            "tags": []
          }
        }
      ]
    },
    {
      "metadata": {
        "id": "178E27dWkhiZ",
        "colab_type": "code",
        "colab": {},
        "outputId": "65b5006c-c2c3-4bfa-dfee-8256f43db6cd"
      },
      "cell_type": "code",
      "source": [
        "sns.jointplot(x=train['Donut Area of cross section'], y=train['Donut Density'])"
      ],
      "execution_count": 0,
      "outputs": [
        {
          "output_type": "stream",
          "text": [
            "D:\\python2\\lib\\site-packages\\matplotlib\\axes\\_axes.py:6462: UserWarning: The 'normed' kwarg is deprecated, and has been replaced by the 'density' kwarg.\n",
            "  warnings.warn(\"The 'normed' kwarg is deprecated, and has been \"\n",
            "D:\\python2\\lib\\site-packages\\matplotlib\\axes\\_axes.py:6462: UserWarning: The 'normed' kwarg is deprecated, and has been replaced by the 'density' kwarg.\n",
            "  warnings.warn(\"The 'normed' kwarg is deprecated, and has been \"\n"
          ],
          "name": "stderr"
        },
        {
          "output_type": "execute_result",
          "data": {
            "text/plain": [
              "<seaborn.axisgrid.JointGrid at 0x15d1fc88>"
            ]
          },
          "metadata": {
            "tags": []
          },
          "execution_count": 39
        },
        {
          "output_type": "display_data",
          "data": {
            "image/png": "[encoded data removed]",
            "text/plain": [
              "<Figure size 432x432 with 3 Axes>"
            ]
          },
          "metadata": {
            "tags": []
          }
        }
      ]
    },
    {
      "metadata": {
        "id": "mO84nECRkhib",
        "colab_type": "code",
        "colab": {},
        "outputId": "4f8dd5b4-2746-4087-f40c-58da84251646"
      },
      "cell_type": "code",
      "source": [
        "pivot = train.pivot_table(index='Donut Area of cross section', values='Donut Density', aggfunc=np.median)\n",
        "print(type(pivot))\n",
        "pivot.sort_values"
      ],
      "execution_count": 0,
      "outputs": [
        {
          "output_type": "stream",
          "text": [
            "<class 'pandas.core.frame.DataFrame'>\n"
          ],
          "name": "stdout"
        },
        {
          "output_type": "execute_result",
          "data": {
            "text/plain": [
              "<bound method DataFrame.sort_values of                              Donut Density\n",
              "Donut Area of cross section               \n",
              "487.02                                23.6\n",
              "491.23                                14.7\n",
              "496.27                                14.3\n",
              "504.81                                17.8\n",
              "505.98                                19.1\n",
              "514.24                                16.3\n",
              "515.97                                23.5\n",
              "521.44                                20.3\n",
              "522.48                                15.4\n",
              "524.94                                25.6\n",
              "528.33                                23.1\n",
              "531.17                                31.0\n",
              "532.00                                20.2\n",
              "534.38                                21.5\n",
              "538.85                                15.8\n",
              "539.17                                16.9\n",
              "539.43                                22.7\n",
              "540.97                                16.9\n",
              "542.93                                19.0\n",
              "544.94                                21.0\n",
              "547.85                                24.7\n",
              "549.16                                24.1\n",
              "549.71                                18.9\n",
              "551.25                                21.1\n",
              "554.18                                16.0\n",
              "556.38                                21.1\n",
              "558.90                                18.3\n",
              "560.20                                21.0\n",
              "561.16                                19.4\n",
              "561.71                                16.4\n",
              "...                                    ...\n",
              "909.28                                29.2\n",
              "911.46                                28.6\n",
              "912.23                                29.5\n",
              "912.52                                31.3\n",
              "916.65                                28.6\n",
              "920.69                                33.6\n",
              "922.39                                29.2\n",
              "923.66                                24.8\n",
              "927.20                                32.2\n",
              "929.32                                36.5\n",
              "933.96                                28.6\n",
              "935.50                                22.3\n",
              "940.38                                28.9\n",
              "941.70                                36.3\n",
              "947.52                                29.9\n",
              "949.60                                32.8\n",
              "955.72                                30.3\n",
              "966.03                                32.3\n",
              "976.74                                30.3\n",
              "980.04                                32.6\n",
              "980.05                                31.4\n",
              "984.93                                28.6\n",
              "987.18                                29.0\n",
              "994.08                                27.7\n",
              "1003.06                               30.2\n",
              "1012.17                               33.1\n",
              "1014.31                               37.1\n",
              "1025.42                               30.3\n",
              "1032.70                               35.5\n",
              "1056.79                               36.4\n",
              "\n",
              "[739 rows x 1 columns]>"
            ]
          },
          "metadata": {
            "tags": []
          },
          "execution_count": 59
        }
      ]
    },
    {
      "metadata": {
        "id": "eVRJWbQqkhie",
        "colab_type": "code",
        "colab": {},
        "outputId": "94eceb37-eb03-459a-cba4-e84bde2bacab"
      },
      "cell_type": "code",
      "source": [
        "pivot = train.pivot_table(index='Donut Area of cross section', values='Donut volume', aggfunc=np.median)\n",
        "print(type(pivot))\n",
        "pivot.sort_values"
      ],
      "execution_count": 0,
      "outputs": [
        {
          "output_type": "stream",
          "text": [
            "<class 'pandas.core.frame.DataFrame'>\n"
          ],
          "name": "stdout"
        },
        {
          "output_type": "execute_result",
          "data": {
            "text/plain": [
              "<bound method DataFrame.sort_values of                              Donut volume\n",
              "Donut Area of cross section              \n",
              "487.02                               72.8\n",
              "491.23                               42.6\n",
              "496.27                               52.1\n",
              "504.81                               59.6\n",
              "505.98                               64.8\n",
              "514.24                               54.8\n",
              "515.97                               74.8\n",
              "521.44                               63.3\n",
              "522.48                               58.6\n",
              "524.94                               77.3\n",
              "528.33                               66.4\n",
              "531.17                               88.0\n",
              "532.00                               65.9\n",
              "534.38                               69.0\n",
              "538.85                               54.2\n",
              "539.17                               58.0\n",
              "539.43                               72.7\n",
              "540.97                               59.0\n",
              "542.93                               64.0\n",
              "544.94                               66.4\n",
              "547.85                               74.2\n",
              "549.16                               79.5\n",
              "549.71                               61.1\n",
              "551.25                               66.1\n",
              "554.18                               57.1\n",
              "556.38                               71.3\n",
              "558.90                               56.9\n",
              "560.20                               67.2\n",
              "561.16                               65.7\n",
              "561.71                               58.1\n",
              "...                                   ...\n",
              "909.28                               85.0\n",
              "911.46                               83.0\n",
              "912.23                               88.0\n",
              "912.52                               88.0\n",
              "916.65                               83.0\n",
              "920.69                              104.0\n",
              "922.39                               85.0\n",
              "923.66                               74.0\n",
              "927.20                               94.0\n",
              "929.32                              112.0\n",
              "933.96                               84.0\n",
              "935.50                               95.0\n",
              "940.38                               86.0\n",
              "941.70                              110.0\n",
              "947.52                               87.0\n",
              "949.60                               94.0\n",
              "955.72                               89.0\n",
              "966.03                              102.0\n",
              "976.74                               87.0\n",
              "980.04                               94.0\n",
              "980.05                               90.7\n",
              "984.93                               85.0\n",
              "987.18                               85.0\n",
              "994.08                               84.2\n",
              "1003.06                              88.0\n",
              "1012.17                             101.0\n",
              "1014.31                             105.0\n",
              "1025.42                              89.0\n",
              "1032.70                             108.0\n",
              "1056.79                             105.0\n",
              "\n",
              "[739 rows x 1 columns]>"
            ]
          },
          "metadata": {
            "tags": []
          },
          "execution_count": 62
        }
      ]
    },
    {
      "metadata": {
        "id": "oIdNh5APkhig",
        "colab_type": "code",
        "colab": {},
        "outputId": "c815f758-3ba9-43d3-c87d-50231d95ff04"
      },
      "cell_type": "code",
      "source": [
        "#create numeric plots\n",
        "num = [f for f in train.columns if train.dtypes[f] != 'object']\n",
        "#num.remove('Id')\n",
        "nd = pd.melt(train, value_vars = num)\n",
        "n1 = sns.FacetGrid (nd, col='variable', col_wrap=4, sharex=False, sharey = False)\n",
        "n1 = n1.map(sns.distplot, 'value')\n",
        "n1"
      ],
      "execution_count": 0,
      "outputs": [
        {
          "output_type": "stream",
          "text": [
            "D:\\python2\\lib\\site-packages\\matplotlib\\axes\\_axes.py:6462: UserWarning: The 'normed' kwarg is deprecated, and has been replaced by the 'density' kwarg.\n",
            "  warnings.warn(\"The 'normed' kwarg is deprecated, and has been \"\n",
            "D:\\python2\\lib\\site-packages\\matplotlib\\axes\\_axes.py:6462: UserWarning: The 'normed' kwarg is deprecated, and has been replaced by the 'density' kwarg.\n",
            "  warnings.warn(\"The 'normed' kwarg is deprecated, and has been \"\n",
            "D:\\python2\\lib\\site-packages\\matplotlib\\axes\\_axes.py:6462: UserWarning: The 'normed' kwarg is deprecated, and has been replaced by the 'density' kwarg.\n",
            "  warnings.warn(\"The 'normed' kwarg is deprecated, and has been \"\n",
            "D:\\python2\\lib\\site-packages\\matplotlib\\axes\\_axes.py:6462: UserWarning: The 'normed' kwarg is deprecated, and has been replaced by the 'density' kwarg.\n",
            "  warnings.warn(\"The 'normed' kwarg is deprecated, and has been \"\n",
            "D:\\python2\\lib\\site-packages\\matplotlib\\axes\\_axes.py:6462: UserWarning: The 'normed' kwarg is deprecated, and has been replaced by the 'density' kwarg.\n",
            "  warnings.warn(\"The 'normed' kwarg is deprecated, and has been \"\n",
            "D:\\python2\\lib\\site-packages\\matplotlib\\axes\\_axes.py:6462: UserWarning: The 'normed' kwarg is deprecated, and has been replaced by the 'density' kwarg.\n",
            "  warnings.warn(\"The 'normed' kwarg is deprecated, and has been \"\n",
            "D:\\python2\\lib\\site-packages\\matplotlib\\axes\\_axes.py:6462: UserWarning: The 'normed' kwarg is deprecated, and has been replaced by the 'density' kwarg.\n",
            "  warnings.warn(\"The 'normed' kwarg is deprecated, and has been \"\n",
            "D:\\python2\\lib\\site-packages\\matplotlib\\axes\\_axes.py:6462: UserWarning: The 'normed' kwarg is deprecated, and has been replaced by the 'density' kwarg.\n",
            "  warnings.warn(\"The 'normed' kwarg is deprecated, and has been \"\n",
            "D:\\python2\\lib\\site-packages\\matplotlib\\axes\\_axes.py:6462: UserWarning: The 'normed' kwarg is deprecated, and has been replaced by the 'density' kwarg.\n",
            "  warnings.warn(\"The 'normed' kwarg is deprecated, and has been \"\n",
            "D:\\python2\\lib\\site-packages\\matplotlib\\axes\\_axes.py:6462: UserWarning: The 'normed' kwarg is deprecated, and has been replaced by the 'density' kwarg.\n",
            "  warnings.warn(\"The 'normed' kwarg is deprecated, and has been \"\n",
            "D:\\python2\\lib\\site-packages\\matplotlib\\axes\\_axes.py:6462: UserWarning: The 'normed' kwarg is deprecated, and has been replaced by the 'density' kwarg.\n",
            "  warnings.warn(\"The 'normed' kwarg is deprecated, and has been \"\n",
            "D:\\python2\\lib\\site-packages\\matplotlib\\axes\\_axes.py:6462: UserWarning: The 'normed' kwarg is deprecated, and has been replaced by the 'density' kwarg.\n",
            "  warnings.warn(\"The 'normed' kwarg is deprecated, and has been \"\n"
          ],
          "name": "stderr"
        },
        {
          "output_type": "execute_result",
          "data": {
            "text/plain": [
              "<seaborn.axisgrid.FacetGrid at 0x16b0d748>"
            ]
          },
          "metadata": {
            "tags": []
          },
          "execution_count": 55
        },
        {
          "output_type": "display_data",
          "data": {
            "image/png": "[encoded data removed]",
            "text/plain": [
              "<Figure size 864x648 with 12 Axes>"
            ]
          },
          "metadata": {
            "tags": []
          }
        }
      ]
    },
    {
      "metadata": {
        "id": "OHa0B8jdkhij",
        "colab_type": "code",
        "colab": {},
        "outputId": "b385e19a-d06d-4bff-b56d-3f737e4b1cc0"
      },
      "cell_type": "code",
      "source": [
        "def boxplot(x,y,**kwargs):\n",
        "            sns.boxplot(x=x,y=y)\n",
        "            x = plt.xticks(rotation=90)\n",
        "\n",
        "cat = [f for f in train.columns if train.dtypes[f] == 'object']\n",
        "\n",
        "p = pd.melt(train, id_vars='Donut volume', value_vars=cat)\n",
        "g = sns.FacetGrid (p, col='variable', col_wrap=2, sharex=False, sharey=False, size=5)\n",
        "g = g.map(boxplot, 'value','Donut volume')\n",
        "g"
      ],
      "execution_count": 0,
      "outputs": [
        {
          "output_type": "execute_result",
          "data": {
            "text/plain": [
              "<seaborn.axisgrid.FacetGrid at 0x17716a90>"
            ]
          },
          "metadata": {
            "tags": []
          },
          "execution_count": 56
        },
        {
          "output_type": "display_data",
          "data": {
            "image/png": "[encoded data removed]",
            "text/plain": [
              "<Figure size 720x360 with 1 Axes>"
            ]
          },
          "metadata": {
            "tags": []
          }
        }
      ]
    },
    {
      "metadata": {
        "id": "aHLj6tVTkhiq",
        "colab_type": "code",
        "colab": {},
        "outputId": "1dbd34f3-84c8-468f-8889-5e17552fe46f"
      },
      "cell_type": "code",
      "source": [
        "def boxplot(x,y,**kwargs):\n",
        "            sns.boxplot(x=x,y=y)\n",
        "            x = plt.xticks(rotation=90)\n",
        "\n",
        "cat = [f for f in train.columns if train.dtypes[f] == 'object']\n",
        "\n",
        "p = pd.melt(train, id_vars='Donut Density', value_vars=cat)\n",
        "g = sns.FacetGrid (p, col='variable', col_wrap=2, sharex=False, sharey=False, size=5)\n",
        "g = g.map(boxplot, 'value','Donut Density')\n",
        "g"
      ],
      "execution_count": 0,
      "outputs": [
        {
          "output_type": "execute_result",
          "data": {
            "text/plain": [
              "<seaborn.axisgrid.FacetGrid at 0x1757b908>"
            ]
          },
          "metadata": {
            "tags": []
          },
          "execution_count": 57
        },
        {
          "output_type": "display_data",
          "data": {
            "image/png": "[encoded data removed]",
            "text/plain": [
              "<Figure size 720x360 with 1 Axes>"
            ]
          },
          "metadata": {
            "tags": []
          }
        }
      ]
    },
    {
      "metadata": {
        "id": "i3hVoCkVkhis",
        "colab_type": "code",
        "colab": {}
      },
      "cell_type": "code",
      "source": [
        "#removing outliers\n",
        "train.drop(train[train['Donut ID'] > 4000].index, inplace=True)\n",
        "train.shape"
      ],
      "execution_count": 0,
      "outputs": []
    },
    {
      "metadata": {
        "id": "R1OJEhOKkhit",
        "colab_type": "code",
        "colab": {}
      },
      "cell_type": "code",
      "source": [
        ""
      ],
      "execution_count": 0,
      "outputs": []
    },
    {
      "metadata": {
        "id": "uHRGF9vmkhiv",
        "colab_type": "code",
        "colab": {},
        "outputId": "55d8ec1f-619a-4738-a655-37e598b6b1db"
      },
      "cell_type": "code",
      "source": [
        "data = train\n",
        "print(data.shape)\n",
        "data.head()"
      ],
      "execution_count": 0,
      "outputs": [
        {
          "output_type": "stream",
          "text": [
            "(749, 13)\n"
          ],
          "name": "stdout"
        },
        {
          "output_type": "execute_result",
          "data": {
            "text/html": [
              "<div>\n",
              "<style scoped>\n",
              "    .dataframe tbody tr th:only-of-type {\n",
              "        vertical-align: middle;\n",
              "    }\n",
              "\n",
              "    .dataframe tbody tr th {\n",
              "        vertical-align: top;\n",
              "    }\n",
              "\n",
              "    .dataframe thead th {\n",
              "        text-align: right;\n",
              "    }\n",
              "</style>\n",
              "<table border=\"1\" class=\"dataframe\">\n",
              "  <thead>\n",
              "    <tr style=\"text-align: right;\">\n",
              "      <th></th>\n",
              "      <th>Donut ID</th>\n",
              "      <th>Donut Estimator 1</th>\n",
              "      <th>Donut Area of cross section</th>\n",
              "      <th>Donut Area of circumference circle</th>\n",
              "      <th>Donut area of central hole / Donut Area of circumscribed circle</th>\n",
              "      <th>Donut  Estimator 2</th>\n",
              "      <th>Donut  Estimator 3</th>\n",
              "      <th>Donut  Estimator 4</th>\n",
              "      <th>Donut  Estimator 5</th>\n",
              "      <th>Donut volume Estimator 6</th>\n",
              "      <th>Location</th>\n",
              "      <th>Donut Density</th>\n",
              "      <th>Donut volume</th>\n",
              "    </tr>\n",
              "  </thead>\n",
              "  <tbody>\n",
              "    <tr>\n",
              "      <th>0</th>\n",
              "      <td>1</td>\n",
              "      <td>317.61</td>\n",
              "      <td>496.27</td>\n",
              "      <td>682.80</td>\n",
              "      <td>0.27</td>\n",
              "      <td>818.25</td>\n",
              "      <td>788.89</td>\n",
              "      <td>567.20</td>\n",
              "      <td>557.68</td>\n",
              "      <td>579.17</td>\n",
              "      <td>Mumbai</td>\n",
              "      <td>14.3</td>\n",
              "      <td>52.1</td>\n",
              "    </tr>\n",
              "    <tr>\n",
              "      <th>1</th>\n",
              "      <td>2</td>\n",
              "      <td>315.19</td>\n",
              "      <td>538.85</td>\n",
              "      <td>645.77</td>\n",
              "      <td>0.17</td>\n",
              "      <td>800.65</td>\n",
              "      <td>798.97</td>\n",
              "      <td>560.37</td>\n",
              "      <td>561.20</td>\n",
              "      <td>577.59</td>\n",
              "      <td>Mumbai</td>\n",
              "      <td>15.8</td>\n",
              "      <td>54.2</td>\n",
              "    </tr>\n",
              "    <tr>\n",
              "      <th>2</th>\n",
              "      <td>3</td>\n",
              "      <td>317.44</td>\n",
              "      <td>514.24</td>\n",
              "      <td>661.30</td>\n",
              "      <td>0.22</td>\n",
              "      <td>795.79</td>\n",
              "      <td>801.74</td>\n",
              "      <td>579.30</td>\n",
              "      <td>584.34</td>\n",
              "      <td>575.06</td>\n",
              "      <td>Mumbai</td>\n",
              "      <td>16.3</td>\n",
              "      <td>54.8</td>\n",
              "    </tr>\n",
              "    <tr>\n",
              "      <th>3</th>\n",
              "      <td>4</td>\n",
              "      <td>336.62</td>\n",
              "      <td>562.98</td>\n",
              "      <td>709.35</td>\n",
              "      <td>0.20</td>\n",
              "      <td>888.29</td>\n",
              "      <td>862.33</td>\n",
              "      <td>596.66</td>\n",
              "      <td>588.34</td>\n",
              "      <td>629.96</td>\n",
              "      <td>Mumbai</td>\n",
              "      <td>16.6</td>\n",
              "      <td>56.6</td>\n",
              "    </tr>\n",
              "    <tr>\n",
              "      <th>4</th>\n",
              "      <td>5</td>\n",
              "      <td>331.76</td>\n",
              "      <td>558.90</td>\n",
              "      <td>635.54</td>\n",
              "      <td>0.12</td>\n",
              "      <td>801.16</td>\n",
              "      <td>811.17</td>\n",
              "      <td>593.59</td>\n",
              "      <td>599.81</td>\n",
              "      <td>586.01</td>\n",
              "      <td>Mumbai</td>\n",
              "      <td>18.3</td>\n",
              "      <td>56.9</td>\n",
              "    </tr>\n",
              "  </tbody>\n",
              "</table>\n",
              "</div>"
            ],
            "text/plain": [
              "   Donut ID  Donut Estimator 1  Donut Area of cross section  \\\n",
              "0         1             317.61                       496.27   \n",
              "1         2             315.19                       538.85   \n",
              "2         3             317.44                       514.24   \n",
              "3         4             336.62                       562.98   \n",
              "4         5             331.76                       558.90   \n",
              "\n",
              "   Donut Area of circumference circle  \\\n",
              "0                              682.80   \n",
              "1                              645.77   \n",
              "2                              661.30   \n",
              "3                              709.35   \n",
              "4                              635.54   \n",
              "\n",
              "   Donut area of central hole / Donut Area of circumscribed circle  \\\n",
              "0                                               0.27                 \n",
              "1                                               0.17                 \n",
              "2                                               0.22                 \n",
              "3                                               0.20                 \n",
              "4                                               0.12                 \n",
              "\n",
              "   Donut  Estimator 2  Donut  Estimator 3  Donut  Estimator 4  \\\n",
              "0              818.25              788.89              567.20   \n",
              "1              800.65              798.97              560.37   \n",
              "2              795.79              801.74              579.30   \n",
              "3              888.29              862.33              596.66   \n",
              "4              801.16              811.17              593.59   \n",
              "\n",
              "   Donut  Estimator 5  Donut volume Estimator 6 Location  Donut Density  \\\n",
              "0              557.68                    579.17   Mumbai           14.3   \n",
              "1              561.20                    577.59   Mumbai           15.8   \n",
              "2              584.34                    575.06   Mumbai           16.3   \n",
              "3              588.34                    629.96   Mumbai           16.6   \n",
              "4              599.81                    586.01   Mumbai           18.3   \n",
              "\n",
              "   Donut volume  \n",
              "0          52.1  \n",
              "1          54.2  \n",
              "2          54.8  \n",
              "3          56.6  \n",
              "4          56.9  "
            ]
          },
          "metadata": {
            "tags": []
          },
          "execution_count": 46
        }
      ]
    },
    {
      "metadata": {
        "id": "U930IjXzkhi0",
        "colab_type": "code",
        "colab": {}
      },
      "cell_type": "code",
      "source": [
        ""
      ],
      "execution_count": 0,
      "outputs": []
    },
    {
      "metadata": {
        "id": "Jz363VgBkhi2",
        "colab_type": "code",
        "colab": {}
      },
      "cell_type": "code",
      "source": [
        "# Collecting X and Y\n",
        "X = data['Donut ID'].values\n",
        "Y = data['Donut volume'].values"
      ],
      "execution_count": 0,
      "outputs": []
    },
    {
      "metadata": {
        "id": "bayDkbhUkhi3",
        "colab_type": "text"
      },
      "cell_type": "markdown",
      "source": [
        "Simple Linear Regression using ordinary least squares method:\n",
        "\n",
        "Here is a brief description on my Model Representation:\n",
        "\n",
        "Here we have an input variable - X and one output variable - Y. And we want to build linear relationship between these variables. Here the input variable is called Independent Variable, X in our case and the output variable, Y in our case is called Dependent Variable. We can define this linear relationship as follows:\n",
        "\n",
        "Y=β0+β1X;\n",
        "\n",
        "Where the β1 is called a scale factor or coefficient and β0 is called bias coefficient. The bias coeffient gives an extra degree of freedom to this model. This equation is similar to the equation of a straight line. The equation is represented as y=mx+b with m=β1(Slope) and b=β0(Intercept).\n",
        "\n",
        "So in this Simple Linear Regression model we want to draw a line between X and Y which estimates the relationship between X and Y."
      ]
    },
    {
      "metadata": {
        "id": "S8iZTRjQkhi4",
        "colab_type": "code",
        "colab": {},
        "outputId": "eb6630a4-afa8-4543-bdb8-bd2b7c4fa4d4"
      },
      "cell_type": "code",
      "source": [
        "# Mean X and Y\n",
        "mean_x = np.mean(X)\n",
        "mean_y = np.mean(Y)\n",
        "\n",
        "# Total number of values\n",
        "m = len(X)\n",
        "\n",
        "# Using the formula to calculate b1 and b2\n",
        "numer = 0\n",
        "denom = 0\n",
        "for i in range(m):\n",
        "    numer += (X[i] - mean_x) * (Y[i] - mean_y)\n",
        "    denom += (X[i] - mean_x) ** 2\n",
        "b1 = numer / denom\n",
        "b0 = mean_y - (b1 * mean_x)\n",
        "\n",
        "# Printing coefficients\n",
        "print(b1, b0)"
      ],
      "execution_count": 0,
      "outputs": [
        {
          "output_type": "stream",
          "text": [
            "(0.033987411379165076, 69.13896639369428)\n"
          ],
          "name": "stdout"
        }
      ]
    },
    {
      "metadata": {
        "id": "KXIXmH6Gkhi5",
        "colab_type": "text"
      },
      "cell_type": "markdown",
      "source": [
        "Now we have our coefficients.\n",
        "\n",
        "Donut volume = 69.13896639369428 + 0.033987411379165076∗Donut ID\n",
        "\n",
        "This is our Simple linear Regression model.\n",
        "\n",
        "Now we will see this graphically."
      ]
    },
    {
      "metadata": {
        "id": "cGVZsuunkhi6",
        "colab_type": "code",
        "colab": {},
        "outputId": "ed53e82c-ee1c-4dcb-f6d9-73444a260469"
      },
      "cell_type": "code",
      "source": [
        "\n",
        "# Calculating the Root Mean Squares Error (RMSE)# Calcu \n",
        "rmse = 0\n",
        "for i in range(m):\n",
        "    y_pred = b0 + b1 * X[i]\n",
        "    rmse += (Y[i] - y_pred) ** 2\n",
        "rmse = np.sqrt(rmse/m)\n",
        "print(rmse)"
      ],
      "execution_count": 0,
      "outputs": [
        {
          "output_type": "stream",
          "text": [
            "6.01593046891316\n"
          ],
          "name": "stdout"
        }
      ]
    },
    {
      "metadata": {
        "id": "mibFHO1Kkhi8",
        "colab_type": "code",
        "colab": {},
        "outputId": "8de47955-c16f-447e-d05e-dbe71ff0e984"
      },
      "cell_type": "code",
      "source": [
        "#r^2 Score\n",
        "ss_t = 0\n",
        "ss_r = 0\n",
        "for i in range(m):\n",
        "    y_pred = b0 + b1 * X[i]\n",
        "    ss_t += (Y[i] - mean_y) ** 2\n",
        "    ss_r += (Y[i] - y_pred) ** 2\n",
        "r2 = 1 - (ss_r/ss_t)\n",
        "print(abs(r2))"
      ],
      "execution_count": 0,
      "outputs": [
        {
          "output_type": "stream",
          "text": [
            "0.7206585401978507\n"
          ],
          "name": "stdout"
        }
      ]
    },
    {
      "metadata": {
        "id": "-nMDEnsGkhi9",
        "colab_type": "text"
      },
      "cell_type": "markdown",
      "source": [
        "#This means that the independent variable 'Donut ID' is 72.0% related to the target variable 'Donut volume'"
      ]
    },
    {
      "metadata": {
        "id": "UhWjeeM5khi-",
        "colab_type": "code",
        "colab": {},
        "outputId": "d3f82122-ae5f-4852-a7c5-08b55c635e2f"
      },
      "cell_type": "code",
      "source": [
        "# Plotting the values and the Regression Line\n",
        "\n",
        "max_x = np.max(X) + 100\n",
        "min_x = np.min(X) - 100\n",
        "\n",
        "# Calculating the line values x and y\n",
        "x = np.linspace(min_x, max_x, 1000)\n",
        "y = b0 + b1 * x\n",
        "\n",
        "# Ploting Line\n",
        "plt.plot(x, y, color='#58b970', label='Regression Line')\n",
        "# Ploting Scatter Points\n",
        "plt.scatter(X, Y, c='#ef5423', label='Scatter Plot')\n",
        "\n",
        "plt.xlabel('DonutID')\n",
        "plt.ylabel('Donut volume')\n",
        "#plt.xlim(-1,11) \n",
        "#plt.ylim(-100,1000000)\n",
        "plt.legend()\n",
        "plt.show()"
      ],
      "execution_count": 0,
      "outputs": [
        {
          "output_type": "display_data",
          "data": {
            "image/png": "[encoded data removed]",
            "text/plain": [
              "<Figure size 720x576 with 1 Axes>"
            ]
          },
          "metadata": {
            "tags": []
          }
        }
      ]
    },
    {
      "metadata": {
        "id": "AWbNGfSlkhjB",
        "colab_type": "code",
        "colab": {}
      },
      "cell_type": "code",
      "source": [
        "# Collecting X and Y\n",
        "X = data['Donut ID'].values\n",
        "Y = data['Donut Density'].values"
      ],
      "execution_count": 0,
      "outputs": []
    },
    {
      "metadata": {
        "id": "YNs5JWZGkhjD",
        "colab_type": "code",
        "colab": {},
        "outputId": "8467782d-22f9-4628-ac98-d1c4ad918aff"
      },
      "cell_type": "code",
      "source": [
        "# Mean X and Y\n",
        "mean_x = np.mean(X)\n",
        "mean_y = np.mean(Y)\n",
        "\n",
        "# Total number of values\n",
        "m = len(X)\n",
        "\n",
        "# Using the formula to calculate b1 and b2\n",
        "numer = 0\n",
        "denom = 0\n",
        "for i in range(m):\n",
        "    numer += (X[i] - mean_x) * (Y[i] - mean_y)\n",
        "    denom += (X[i] - mean_x) ** 2\n",
        "b1 = numer / denom\n",
        "b0 = mean_y - (b1 * mean_x)\n",
        "\n",
        "# Printing coefficients\n",
        "print(b1, b0)"
      ],
      "execution_count": 0,
      "outputs": [
        {
          "output_type": "stream",
          "text": [
            "(0.012682935536151586, 22.110387825478536)\n"
          ],
          "name": "stdout"
        }
      ]
    },
    {
      "metadata": {
        "id": "ZbYNsrGfkhjF",
        "colab_type": "text"
      },
      "cell_type": "markdown",
      "source": [
        "Now we have our coefficients.\n",
        "\n",
        "Donut Density = 22.110387825478536 + 0.012682935536151586∗Donut ID\n",
        "\n",
        "This is our Simple linear Regression model.\n",
        "\n",
        "Now we will see this graphically."
      ]
    },
    {
      "metadata": {
        "id": "9ANFSlnWkhjF",
        "colab_type": "code",
        "colab": {},
        "outputId": "743bc275-f0b6-48e9-ac67-a15bd6e53552"
      },
      "cell_type": "code",
      "source": [
        "# Plotting the values and the Regression Line\n",
        "\n",
        "max_x = np.max(X) + 100\n",
        "min_x = np.min(X) - 100\n",
        "\n",
        "# Calculating the line values x and y\n",
        "x = np.linspace(min_x, max_x, 1000)\n",
        "y = b0 + b1 * x\n",
        "\n",
        "# Ploting Line\n",
        "plt.plot(x, y, color='#58b970', label='Regression Line')\n",
        "# Ploting Scatter Points\n",
        "plt.scatter(X, Y, c='#ef5423', label='Scatter Plot')\n",
        "\n",
        "plt.xlabel('DonutID')\n",
        "plt.ylabel('Donut Density')\n",
        "#plt.xlim(-1,11) \n",
        "#plt.ylim(-100,1000000)\n",
        "plt.legend()\n",
        "plt.show()"
      ],
      "execution_count": 0,
      "outputs": [
        {
          "output_type": "display_data",
          "data": {
            "image/png": "[encoded data removed]",
            "text/plain": [
              "<Figure size 720x576 with 1 Axes>"
            ]
          },
          "metadata": {
            "tags": []
          }
        }
      ]
    },
    {
      "metadata": {
        "id": "FnepykImkhjH",
        "colab_type": "code",
        "colab": {},
        "outputId": "31ccf8c6-5c0e-49d7-d421-003942b9394a"
      },
      "cell_type": "code",
      "source": [
        "\n",
        "# Calculating the Root Mean Squares Error (RMSE)# Calcu \n",
        "rmse = 0\n",
        "for i in range(m):\n",
        "    y_pred = b0 + b1 * X[i]\n",
        "    rmse += (Y[i] - y_pred) ** 2\n",
        "rmse = np.sqrt(rmse/m)\n",
        "print(rmse)"
      ],
      "execution_count": 0,
      "outputs": [
        {
          "output_type": "stream",
          "text": [
            "6.01593046891316\n"
          ],
          "name": "stdout"
        }
      ]
    },
    {
      "metadata": {
        "id": "LgkSUBSXkhjJ",
        "colab_type": "code",
        "colab": {},
        "outputId": "eb2c92a1-f973-458a-a235-2784734849f1"
      },
      "cell_type": "code",
      "source": [
        "#r^2 Score\n",
        "ss_t = 0\n",
        "ss_r = 0\n",
        "for i in range(m):\n",
        "    y_pred = b0 + b1 * X[i]\n",
        "    ss_t += (Y[i] - mean_y) ** 2\n",
        "    ss_r += (Y[i] - y_pred) ** 2\n",
        "r2 = 1 - (ss_r/ss_t)\n",
        "print(abs(r2))"
      ],
      "execution_count": 0,
      "outputs": [
        {
          "output_type": "stream",
          "text": [
            "0.7206585401978507\n"
          ],
          "name": "stdout"
        }
      ]
    },
    {
      "metadata": {
        "id": "A2o0yu64khjL",
        "colab_type": "code",
        "colab": {}
      },
      "cell_type": "code",
      "source": [
        "#This means that the independent variable 'Donut ID' is 72.0% related to the target variable 'Donut Density'"
      ],
      "execution_count": 0,
      "outputs": []
    },
    {
      "metadata": {
        "id": "grv-c2eukhjO",
        "colab_type": "code",
        "colab": {}
      },
      "cell_type": "code",
      "source": [
        "# # Collecting X and Y\n",
        "# import matplotlib.pyplot as plt\n",
        "# %matplotlib inline\n",
        "# plt.rcParams['figure.figsize'] = (10.0, 8.0)\n",
        "# X = data['Donut Area of cross section'].values\n",
        "# Y = data['Donut volume'].values\n",
        "# plt.scatter(X,Y)\n",
        "# plt.ylabel(\"dependent variable - Donut volume\")\n",
        "# plt.xlabel(\"independent variable - Donut Area of cross section\")\n",
        "# plt.show()"
      ],
      "execution_count": 0,
      "outputs": []
    },
    {
      "metadata": {
        "id": "QRl-3hLCkhjP",
        "colab_type": "code",
        "colab": {}
      },
      "cell_type": "code",
      "source": [
        "# # Collecting X and Y\n",
        "# import matplotlib.pyplot as plt\n",
        "# %matplotlib inline\n",
        "# plt.rcParams['figure.figsize'] = (10.0, 8.0)\n",
        "# X = data['Donut Area of cross section'].values\n",
        "# Y = data['Donut Density'].values\n",
        "# plt.scatter(X,Y)\n",
        "# plt.ylabel(\"dependent variable - Donut Density\")\n",
        "# plt.xlabel(\"independent variable - Donut Area of cross section\")\n",
        "# plt.show()"
      ],
      "execution_count": 0,
      "outputs": []
    },
    {
      "metadata": {
        "id": "Doba4py3khjU",
        "colab_type": "code",
        "colab": {},
        "outputId": "c6f730ac-1f01-4ea1-8569-d8434b820c41"
      },
      "cell_type": "code",
      "source": [
        "# import sklearn\n",
        "# from sklearn.linear_model import LinearRegression\n",
        "# X = data['Donut Area of cross section'].values\n",
        "# Y = data['Donut Density'].values\n",
        "# lm = LinearRegression()\n",
        "# lm\n"
      ],
      "execution_count": 0,
      "outputs": [
        {
          "output_type": "execute_result",
          "data": {
            "text/plain": [
              "LinearRegression(copy_X=True, fit_intercept=True, n_jobs=1, normalize=False)"
            ]
          },
          "metadata": {
            "tags": []
          },
          "execution_count": 69
        }
      ]
    },
    {
      "metadata": {
        "id": "YfMhTCEWkhjX",
        "colab_type": "code",
        "colab": {},
        "outputId": "45ef63a0-cfdb-413c-a643-b38081663ebe"
      },
      "cell_type": "code",
      "source": [
        "# len(X)\n"
      ],
      "execution_count": 0,
      "outputs": [
        {
          "output_type": "execute_result",
          "data": {
            "text/plain": [
              "749"
            ]
          },
          "metadata": {
            "tags": []
          },
          "execution_count": 75
        }
      ]
    },
    {
      "metadata": {
        "id": "HD9U_Es8khja",
        "colab_type": "code",
        "colab": {},
        "outputId": "64f81497-f4e6-46e4-c1db-fb98b40df068"
      },
      "cell_type": "code",
      "source": [
        "# len(Y)"
      ],
      "execution_count": 0,
      "outputs": [
        {
          "output_type": "execute_result",
          "data": {
            "text/plain": [
              "749"
            ]
          },
          "metadata": {
            "tags": []
          },
          "execution_count": 76
        }
      ]
    },
    {
      "metadata": {
        "id": "NP_SxZz6khjc",
        "colab_type": "code",
        "colab": {}
      },
      "cell_type": "code",
      "source": [
        "# X1= np.array(X)"
      ],
      "execution_count": 0,
      "outputs": []
    },
    {
      "metadata": {
        "id": "LKiNM7zSkhjd",
        "colab_type": "code",
        "colab": {},
        "outputId": "9173a300-d722-4771-f490-603820495808"
      },
      "cell_type": "code",
      "source": [
        "# type(X1)"
      ],
      "execution_count": 0,
      "outputs": [
        {
          "output_type": "execute_result",
          "data": {
            "text/plain": [
              "numpy.ndarray"
            ]
          },
          "metadata": {
            "tags": []
          },
          "execution_count": 86
        }
      ]
    },
    {
      "metadata": {
        "id": "6njef9Wkkhjf",
        "colab_type": "code",
        "colab": {},
        "outputId": "143ca839-598c-4553-fb8d-f968169c3d1f"
      },
      "cell_type": "code",
      "source": [
        "# len(X1)"
      ],
      "execution_count": 0,
      "outputs": [
        {
          "output_type": "execute_result",
          "data": {
            "text/plain": [
              "749"
            ]
          },
          "metadata": {
            "tags": []
          },
          "execution_count": 87
        }
      ]
    },
    {
      "metadata": {
        "id": "gQ5WqMozkhjg",
        "colab_type": "code",
        "colab": {}
      },
      "cell_type": "code",
      "source": [
        ""
      ],
      "execution_count": 0,
      "outputs": []
    }
  ]
}